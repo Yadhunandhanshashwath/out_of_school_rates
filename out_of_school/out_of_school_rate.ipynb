{
 "cells": [
  {
   "cell_type": "markdown",
   "id": "d3790311",
   "metadata": {},
   "source": [
    "---\n",
    "format:\n",
    "  html:\n",
    "    code-fold: true\n",
    "jupyter: python3\n",
    "---"
   ]
  },
  {
   "cell_type": "markdown",
   "id": "47802952",
   "metadata": {},
   "source": [
    "#  <span style=\"font-family: Stencil; color: #0000a2;\">A global perspective adolescents out of school rate</span>"
   ]
  },
  {
   "cell_type": "markdown",
   "id": "1b2bed92",
   "metadata": {},
   "source": [
    "##  <span style=\"font-family: Elephant; color: #000056;\">INTRODUCTION</span>"
   ]
  },
  {
   "cell_type": "markdown",
   "id": "8227d3f2",
   "metadata": {},
   "source": [
    "### <span style=\"font-family: Century; color: #703855;\">This page contains visualization highlighting the numbers of adolescents who are out of school. This  visualization provides insights into the educational landscape, highlighting key metrics and trends related to adolescent education worldwide.Explore the data to gain a deeper understanding of the factors contributing to out-of-school percentages such as GDP per capita and the implications for global education initiatives.</span>"
   ]
  },
  {
   "cell_type": "code",
   "execution_count": 30,
   "id": "1f09cc5a",
   "metadata": {
    "tags": []
   },
   "outputs": [],
   "source": [
    "import plotly.express as px\n",
    "import pandas as pd\n",
    "import numpy as np\n",
    "import matplotlib.pyplot as plt\n",
    "import seaborn as sns\n",
    "\n",
    "# Import data from USGS\n",
    "data = pd.read_csv('unicef_indicator_1.csv')\n",
    "metadata = pd.read_csv('unicef_metadata.csv')\n",
    "\n",
    "continent_mapping = {\n",
    "     'Afghanistan' : 'Asia'\n",
    "    , 'Albania' : 'Europe'\n",
    "    , 'Algeria' : 'Africa'\n",
    "    , 'Antigua and Barbuda' : 'North America'\n",
    "    , 'Argentina' : 'South America'\n",
    "    , 'Armenia' : 'Asia'\n",
    "    , 'Australia' : 'Australia'\n",
    "    , 'Austria' : 'Europe'\n",
    "    , 'Bahamas' : 'North America'\n",
    "    , 'Bahrain' : 'Asia'\n",
    "    , 'Bangladesh' : 'Asia'\n",
    "    , 'Barbados' : 'North America'\n",
    "    , 'Belgium' : 'Europe'\n",
    "    , 'Belize' : 'North America'\n",
    "    , 'Benin' : 'Africa'\n",
    "    , 'Bhutan' : 'Asia'\n",
    "    , 'Bolivia, Plurinational State of' : 'South America'\n",
    "    , 'Botswana' : 'Africa'\n",
    "    , 'Brazil' : 'South America'\n",
    "    , 'Brunei' : 'Asia'\n",
    "    , 'Bulgaria' : 'Europe'\n",
    "    , 'Cambodia' : 'Asia'\n",
    "    , 'Canada' : 'North America'\n",
    "    , 'Chile' : 'South America'\n",
    "    , 'China' : 'Asia'\n",
    "    , 'Colombia' : 'South America'\n",
    "    , 'Cook Islands' : 'Australia'\n",
    "    , 'Costa Rica' : 'North America'\n",
    "    , 'Croatia' : 'Europe'\n",
    "    , 'Czech Republic' : 'Europe'\n",
    "    , 'Denmark' : 'Europe'\n",
    "    , 'Djibouti' : 'Africa'\n",
    "    , 'Dominica' : 'North America'\n",
    "    , 'Ecuador' : 'South America'\n",
    "    , 'Egypt' : 'Africa'\n",
    "    , 'El Salvador' : 'North America'\n",
    "    , 'Estonia' : 'Europe'\n",
    "    , 'Fiji' : 'Australia'\n",
    "    , 'Finland' : 'Europe'\n",
    "    , 'France' : 'Europe'\n",
    "    , 'Germany' : 'Europe'\n",
    "    , 'Ghana' : 'Africa'\n",
    "    , 'Greece' : 'Europe'\n",
    "    , 'Grenada' : 'North America'\n",
    "    , 'Guatemala' : 'North America'\n",
    "    , 'Guyana' : 'South America'\n",
    "    , 'Honduras' : 'North America'\n",
    "    , 'Hungary' : 'Europe'\n",
    "    , 'Iceland' : 'Europe'\n",
    "    , 'India' : 'Asia'\n",
    "    , 'Indonesia' : 'Asia'\n",
    "    , 'Iraq' : 'Asia'\n",
    "    , 'Ireland' : 'Europe'\n",
    "    , 'Israel' : 'Asia'\n",
    "    , 'Italy' : 'Europe'\n",
    "    , 'Jordan' : 'Asia'\n",
    "    , 'Kenya' : 'Africa'\n",
    "    , 'Kiribati' : 'Australia'\n",
    "    , 'Kuwait' : 'Asia'\n",
    "    , 'Lao People''s Democratic Republic' : 'Asia'\n",
    "    , 'Latvia' : 'Europe'\n",
    "    , 'Lebanon' : 'Asia'\n",
    "    , 'Libyan Arab Jamahiriya' : 'Africa'\n",
    "    , 'Lithuania' : 'Europe'\n",
    "    , 'Luxembourg' : 'Europe'\n",
    "    , 'Malaysia' : 'Asia'\n",
    "    , 'Maldives' : 'Asia'\n",
    "    , 'Malta' : 'Europe'\n",
    "    , 'Mauritania' : 'Africa'\n",
    "    , 'Mauritius' : 'Africa'\n",
    "    , 'Mexico' : 'North America'\n",
    "    , 'Mongolia' : 'Asia'\n",
    "    , 'Morocco' : 'Africa'\n",
    "    , 'Mozambique' : 'Africa'\n",
    "    , 'Burma' : 'Asia'\n",
    "    , 'Namibia' : 'Africa'\n",
    "    , 'Nauru' : 'Australia'\n",
    "    , 'Nepal' : 'Asia'\n",
    "    , 'Netherlands' : 'Europe'\n",
    "    , 'New Zealand' : 'Australia'\n",
    "    , 'Niue' : 'Australia'\n",
    "    , 'Macedonia, the former Yugoslav Republic of' : 'Europe'\n",
    "    , 'Norway' : 'Europe'\n",
    "    , 'Oman' : 'Asia'\n",
    "    , 'Pakistan' : 'Asia'\n",
    "    , 'Palau' : 'Australia'\n",
    "    , 'Paraguay' : 'South America'\n",
    "    , 'Peru' : 'South America'\n",
    "    , 'Philippines' : 'Asia'\n",
    "    , 'Poland' : 'Europe'\n",
    "    , 'Portugal' : 'Europe'\n",
    "    , 'Qatar' : 'Asia'\n",
    "    , 'South Korea' : 'Asia'\n",
    "    , 'Moldova, Republic of' : 'Europe'\n",
    "    , 'Romania' : 'Europe'\n",
    "    , 'Russia' : 'Europe'\n",
    "    , 'Saint Kitts and Nevis' : 'North America'\n",
    "    , 'Saint Lucia' : 'North America'\n",
    "    , 'Saint Vincent and the Grenadines' : 'North America'\n",
    "    , 'Samoa' : 'Australia'\n",
    "    , 'Senegal' : 'Africa'\n",
    "    , 'Seychelles' : 'Africa'\n",
    "    , 'Singapore' : 'Asia'\n",
    "    , 'Slovakia' : 'Europe'\n",
    "    , 'Slovenia' : 'Europe'\n",
    "    , 'Solomon Islands' : 'Australia'\n",
    "    , 'Spain' : 'Europe'\n",
    "    , 'Sri Lanka' : 'Asia'\n",
    "    , 'Sudan' : 'Africa'\n",
    "    , 'Suriname' : 'South America'\n",
    "    , 'Sweden' : 'Europe'\n",
    "    , 'Switzerland' : 'Europe'\n",
    "    , 'Syrian Arab Republic' : 'Asia'\n",
    "    , 'Thailand' : 'Asia'\n",
    "    , 'Timor-Leste' : 'Asia'\n",
    "    , 'Tonga' : 'Australia'\n",
    "    , 'Trinidad and Tobago' : 'North America'\n",
    "    , 'Tunisia' : 'Africa'\n",
    "    , 'Tuvalu' : 'Australia'\n",
    "    , 'Turkey' : 'Europe'\n",
    "    , 'Uganda' : 'Africa'\n",
    "    , 'Ukraine' : 'Europe'\n",
    "    , 'United Arab Emirates' : 'Asia'\n",
    "    , 'United Kingdom' : 'Europe'\n",
    "    , 'Tanzania, United Republic of' : 'Africa'\n",
    "    , 'United States' : 'North America'\n",
    "    , 'Uruguay' : 'South America'\n",
    "    , 'Vanuatu' : 'Australia'\n",
    "    , 'Venezuela, Bolivarian Republic of' : 'South America'\n",
    "    , 'Viet Nam' : 'Asia'\n",
    "    , 'Yemen' : 'Asia'\n",
    "    , 'Zambia' : 'Africa'\n",
    "    , 'Zimbabwe' : 'Africa'\n",
    "    , 'Azerbaijan' : 'Asia'\n",
    "    , 'Belarus' : 'Europe'\n",
    "    , 'Bosnia and Herzegovina' : 'Europe'\n",
    "    , 'Virgin Islands, British' : 'North America'\n",
    "    , 'Burkina Faso' : 'Africa'\n",
    "    , 'Burundi' : 'Africa'\n",
    "    , 'Cape Verde' : 'Africa'\n",
    "    , 'Cameroon' : 'Africa'\n",
    "    , 'Central African Republic' : 'Africa'\n",
    "    , 'Chad' : 'Africa'\n",
    "    , 'Comoros' : 'Africa'\n",
    "}\n",
    "\n",
    "data['continent'] = data['country'].map(continent_mapping)\n",
    "\n",
    "data = data.rename(columns={'time_period': 'year'})\n",
    "merged_df = pd.merge(data, metadata, on=['country','year'])\n",
    "columns_of_interest = ['country', 'sex', 'obs_value', 'GDP per capita (constant 2015 US$)','continent']\n",
    "df_filtered = merged_df[columns_of_interest]\n",
    "df_gdp = df_filtered.groupby(['continent'])['GDP per capita (constant 2015 US$)'].mean().reset_index()\n",
    "df_total_obs = df_filtered[df_filtered['sex'] == 'Total'].groupby(['continent'])['obs_value'].mean().reset_index()\n",
    "gdp_obs_value = pd.concat([df_gdp, df_total_obs], axis=1)\n",
    "gdp_obs_value.columns = ['continent', 'total_gdp', 'continent','total_obs_value']\n",
    "gdp_obs_value = gdp_obs_value.loc[:, ~gdp_obs_value.columns.duplicated()]"
   ]
  },
  {
   "cell_type": "markdown",
   "id": "2c388607",
   "metadata": {},
   "source": [
    "##  <span style=\"font-family: Elephant; color: #000056;\">A WORLD MAP CHART</span>"
   ]
  },
  {
   "cell_type": "code",
   "execution_count": 52,
   "id": "ddf426f8",
   "metadata": {},
   "outputs": [
    {
     "data": {
      "application/vnd.plotly.v1+json": {
       "config": {
        "plotlyServerURL": "https://plot.ly"
       },
       "data": [
        {
         "coloraxis": "coloraxis",
         "geo": "geo",
         "hovertemplate": "<b>%{hovertext}</b><br><br>alpha_3_code=%{location}<br>obs_value=%{z}<extra></extra>",
         "hovertext": [
          "Albania",
          "Albania",
          "Albania",
          "Antigua and Barbuda",
          "Antigua and Barbuda",
          "Antigua and Barbuda",
          "Argentina",
          "Argentina",
          "Argentina",
          "Armenia",
          "Armenia",
          "Armenia",
          "Australia",
          "Australia",
          "Australia",
          "Austria",
          "Austria",
          "Austria",
          "Azerbaijan",
          "Azerbaijan",
          "Azerbaijan",
          "Bahrain",
          "Bahrain",
          "Bahrain",
          "Bangladesh",
          "Bangladesh",
          "Bangladesh",
          "Barbados",
          "Barbados",
          "Barbados",
          "Belarus",
          "Belarus",
          "Belarus",
          "Belgium",
          "Belgium",
          "Belgium",
          "Belize",
          "Belize",
          "Belize",
          "Benin",
          "Benin",
          "Benin",
          "Bhutan",
          "Bhutan",
          "Bhutan",
          "Bolivia, Plurinational State of",
          "Bolivia, Plurinational State of",
          "Bolivia, Plurinational State of",
          "Bosnia and Herzegovina",
          "Bosnia and Herzegovina",
          "Bosnia and Herzegovina",
          "Botswana",
          "Botswana",
          "Botswana",
          "Brazil",
          "Brazil",
          "Brazil",
          "Virgin Islands, British",
          "Brunei",
          "Bulgaria",
          "Bulgaria",
          "Bulgaria",
          "Burkina Faso",
          "Burkina Faso",
          "Burkina Faso",
          "Burundi",
          "Burundi",
          "Burundi",
          "Cape Verde",
          "Cape Verde",
          "Cape Verde",
          "Cambodia",
          "Cambodia",
          "Cambodia",
          "Cameroon",
          "Cameroon",
          "Cameroon",
          "Canada",
          "Canada",
          "Canada",
          "Central African Republic",
          "Central African Republic",
          "Central African Republic",
          "Chad",
          "Chad",
          "Chad",
          "Chile",
          "Chile",
          "Chile",
          "Colombia",
          "Colombia",
          "Colombia",
          "Comoros",
          "Comoros",
          "Comoros",
          "Cook Islands",
          "Cook Islands",
          "Cook Islands",
          "Costa Rica",
          "Costa Rica",
          "Costa Rica",
          "Croatia",
          "Cuba",
          "Cuba",
          "Cuba",
          "Cyprus",
          "Cyprus",
          "Cyprus",
          "Czech Republic",
          "Czech Republic",
          "Czech Republic",
          "Ivory Coast",
          "Ivory Coast",
          "Ivory Coast",
          "Denmark",
          "Denmark",
          "Denmark",
          "Djibouti",
          "Djibouti",
          "Djibouti",
          "Dominica",
          "Dominica",
          "Dominica",
          "Dominican Republic",
          "Dominican Republic",
          "Dominican Republic",
          "Ecuador",
          "Ecuador",
          "Ecuador",
          "Egypt",
          "Egypt",
          "Egypt",
          "Eritrea",
          "Eritrea",
          "Eritrea",
          "Estonia",
          "Estonia",
          "Estonia",
          "Swaziland",
          "Swaziland",
          "Swaziland",
          "Ethiopia",
          "Ethiopia",
          "Ethiopia",
          "Fiji",
          "Finland",
          "Finland",
          "Finland",
          "France",
          "France",
          "France",
          "Gabon",
          "Gabon",
          "Gabon",
          "Gambia",
          "Gambia",
          "Gambia",
          "Georgia",
          "Georgia",
          "Georgia",
          "Germany",
          "Germany",
          "Germany",
          "Ghana",
          "Ghana",
          "Ghana",
          "Greece",
          "Greece",
          "Greece",
          "Grenada",
          "Guatemala",
          "Guatemala",
          "Guatemala",
          "Guinea",
          "Guinea",
          "Guinea",
          "Holy See (Vatican City State)",
          "Holy See (Vatican City State)",
          "Holy See (Vatican City State)",
          "Honduras",
          "Honduras",
          "Honduras",
          "Hungary",
          "Hungary",
          "Hungary",
          "Iceland",
          "Iceland",
          "Iceland",
          "India",
          "India",
          "India",
          "Indonesia",
          "Indonesia",
          "Indonesia",
          "Iran, Islamic Republic of",
          "Iran, Islamic Republic of",
          "Iran, Islamic Republic of",
          "Ireland",
          "Israel",
          "Italy",
          "Italy",
          "Italy",
          "Jordan",
          "Jordan",
          "Jordan",
          "Kazakhstan",
          "Kuwait",
          "Kuwait",
          "Kuwait",
          "Kyrgyzstan",
          "Kyrgyzstan",
          "Kyrgyzstan",
          "Lao People's Democratic Republic",
          "Lao People's Democratic Republic",
          "Lao People's Democratic Republic",
          "Latvia",
          "Latvia",
          "Latvia",
          "Lesotho",
          "Lesotho",
          "Lesotho",
          "Liberia",
          "Liberia",
          "Liberia",
          "Liechtenstein",
          "Liechtenstein",
          "Liechtenstein",
          "Lithuania",
          "Luxembourg",
          "Luxembourg",
          "Luxembourg",
          "Madagascar",
          "Madagascar",
          "Madagascar",
          "Malawi",
          "Malawi",
          "Malawi",
          "Malaysia",
          "Malaysia",
          "Malaysia",
          "Maldives",
          "Maldives",
          "Maldives",
          "Mali",
          "Mali",
          "Mali",
          "Malta",
          "Malta",
          "Malta",
          "Marshall Islands",
          "Marshall Islands",
          "Marshall Islands",
          "Mauritania",
          "Mauritania",
          "Mauritania",
          "Mauritius",
          "Mauritius",
          "Mauritius",
          "Mexico",
          "Mexico",
          "Mexico",
          "Micronesia, Federated States of",
          "Micronesia, Federated States of",
          "Micronesia, Federated States of",
          "Mongolia",
          "Mongolia",
          "Mongolia",
          "Montenegro",
          "Montenegro",
          "Montenegro",
          "Montserrat",
          "Morocco",
          "Morocco",
          "Morocco",
          "Mozambique",
          "Mozambique",
          "Mozambique",
          "Burma",
          "Burma",
          "Burma",
          "Namibia",
          "Namibia",
          "Namibia",
          "Nauru",
          "Nauru",
          "Nauru",
          "Nepal",
          "Nepal",
          "Nepal",
          "Netherlands",
          "Netherlands",
          "Netherlands",
          "New Zealand",
          "New Zealand",
          "New Zealand",
          "Niger",
          "Niger",
          "Niger",
          "Norway",
          "Norway",
          "Norway",
          "Oman",
          "Oman",
          "Oman",
          "Palau",
          "Panama",
          "Panama",
          "Panama",
          "Papua New Guinea",
          "Papua New Guinea",
          "Papua New Guinea",
          "Peru",
          "Peru",
          "Peru",
          "Philippines",
          "Philippines",
          "Philippines",
          "Poland",
          "Poland",
          "Poland",
          "Portugal",
          "Portugal",
          "Portugal",
          "Qatar",
          "Qatar",
          "Qatar",
          "South Korea",
          "South Korea",
          "South Korea",
          "Moldova, Republic of",
          "Romania",
          "Romania",
          "Romania",
          "Russia",
          "Russia",
          "Russia",
          "Rwanda",
          "Rwanda",
          "Rwanda",
          "Saint Lucia",
          "Saint Lucia",
          "Saint Lucia",
          "Saint Vincent and the Grenadines",
          "Saint Vincent and the Grenadines",
          "Saint Vincent and the Grenadines",
          "Samoa",
          "San Marino",
          "San Marino",
          "San Marino",
          "Sao Tome and Principe",
          "Sao Tome and Principe",
          "Sao Tome and Principe",
          "Saudi Arabia",
          "Saudi Arabia",
          "Saudi Arabia",
          "Senegal",
          "Senegal",
          "Senegal",
          "Serbia",
          "Serbia",
          "Serbia",
          "Seychelles",
          "Seychelles",
          "Seychelles",
          "Sierra Leone",
          "Sierra Leone",
          "Sierra Leone",
          "Singapore",
          "Singapore",
          "Singapore",
          "Slovakia",
          "Slovakia",
          "Slovakia",
          "Slovenia",
          "Slovenia",
          "Slovenia",
          "South Africa",
          "South Africa",
          "South Africa",
          "South Sudan",
          "South Sudan",
          "South Sudan",
          "Spain",
          "Spain",
          "Spain",
          "Sri Lanka",
          "Sri Lanka",
          "Sri Lanka",
          "Palestinian Territory, Occupied",
          "Palestinian Territory, Occupied",
          "Palestinian Territory, Occupied",
          "Sudan",
          "Sudan",
          "Sudan",
          "Suriname",
          "Suriname",
          "Suriname",
          "Sweden",
          "Switzerland",
          "Switzerland",
          "Switzerland",
          "Timor-Leste",
          "Timor-Leste",
          "Timor-Leste",
          "Togo",
          "Togo",
          "Togo",
          "Tonga",
          "Tonga",
          "Tonga",
          "Turks and Caicos Islands",
          "Turks and Caicos Islands",
          "Turks and Caicos Islands",
          "Tuvalu",
          "Tuvalu",
          "Tuvalu",
          "Turkey",
          "Turkey",
          "Turkey",
          "Uganda",
          "Uganda",
          "Uganda",
          "Ukraine",
          "Ukraine",
          "Ukraine",
          "United Arab Emirates",
          "United Arab Emirates",
          "United Arab Emirates",
          "United Kingdom",
          "United Kingdom",
          "United Kingdom",
          "Tanzania, United Republic of",
          "Tanzania, United Republic of",
          "Tanzania, United Republic of",
          "Uruguay",
          "Uruguay",
          "Uruguay",
          "Uzbekistan",
          "Uzbekistan",
          "Uzbekistan",
          "Vanuatu",
          "Vanuatu",
          "Vanuatu",
          "Venezuela, Bolivarian Republic of",
          "Venezuela, Bolivarian Republic of",
          "Venezuela, Bolivarian Republic of",
          "Yemen",
          "Yemen",
          "Yemen",
          "Zimbabwe"
         ],
         "locations": [
          "ALB",
          "ALB",
          "ALB",
          "ATG",
          "ATG",
          "ATG",
          "ARG",
          "ARG",
          "ARG",
          "ARM",
          "ARM",
          "ARM",
          "AUS",
          "AUS",
          "AUS",
          "AUT",
          "AUT",
          "AUT",
          "AZE",
          "AZE",
          "AZE",
          "BHR",
          "BHR",
          "BHR",
          "BGD",
          "BGD",
          "BGD",
          "BRB",
          "BRB",
          "BRB",
          "BLR",
          "BLR",
          "BLR",
          "BEL",
          "BEL",
          "BEL",
          "BLZ",
          "BLZ",
          "BLZ",
          "BEN",
          "BEN",
          "BEN",
          "BTN",
          "BTN",
          "BTN",
          "BOL",
          "BOL",
          "BOL",
          "BIH",
          "BIH",
          "BIH",
          "BWA",
          "BWA",
          "BWA",
          "BRA",
          "BRA",
          "BRA",
          "VGB",
          "BRN",
          "BGR",
          "BGR",
          "BGR",
          "BFA",
          "BFA",
          "BFA",
          "BDI",
          "BDI",
          "BDI",
          "CPV",
          "CPV",
          "CPV",
          "KHM",
          "KHM",
          "KHM",
          "CMR",
          "CMR",
          "CMR",
          "CAN",
          "CAN",
          "CAN",
          "CAF",
          "CAF",
          "CAF",
          "TCD",
          "TCD",
          "TCD",
          "CHL",
          "CHL",
          "CHL",
          "COL",
          "COL",
          "COL",
          "COM",
          "COM",
          "COM",
          "COK",
          "COK",
          "COK",
          "CRI",
          "CRI",
          "CRI",
          "HRV",
          "CUB",
          "CUB",
          "CUB",
          "CYP",
          "CYP",
          "CYP",
          "CZE",
          "CZE",
          "CZE",
          "CIV",
          "CIV",
          "CIV",
          "DNK",
          "DNK",
          "DNK",
          "DJI",
          "DJI",
          "DJI",
          "DMA",
          "DMA",
          "DMA",
          "DOM",
          "DOM",
          "DOM",
          "ECU",
          "ECU",
          "ECU",
          "EGY",
          "EGY",
          "EGY",
          "ERI",
          "ERI",
          "ERI",
          "EST",
          "EST",
          "EST",
          "SWZ",
          "SWZ",
          "SWZ",
          "ETH",
          "ETH",
          "ETH",
          "FJI",
          "FIN",
          "FIN",
          "FIN",
          "FRA",
          "FRA",
          "FRA",
          "GAB",
          "GAB",
          "GAB",
          "GMB",
          "GMB",
          "GMB",
          "GEO",
          "GEO",
          "GEO",
          "DEU",
          "DEU",
          "DEU",
          "GHA",
          "GHA",
          "GHA",
          "GRC",
          "GRC",
          "GRC",
          "GRD",
          "GTM",
          "GTM",
          "GTM",
          "GIN",
          "GIN",
          "GIN",
          "VAT",
          "VAT",
          "VAT",
          "HND",
          "HND",
          "HND",
          "HUN",
          "HUN",
          "HUN",
          "ISL",
          "ISL",
          "ISL",
          "IND",
          "IND",
          "IND",
          "IDN",
          "IDN",
          "IDN",
          "IRN",
          "IRN",
          "IRN",
          "IRL",
          "ISR",
          "ITA",
          "ITA",
          "ITA",
          "JOR",
          "JOR",
          "JOR",
          "KAZ",
          "KWT",
          "KWT",
          "KWT",
          "KGZ",
          "KGZ",
          "KGZ",
          "LAO",
          "LAO",
          "LAO",
          "LVA",
          "LVA",
          "LVA",
          "LSO",
          "LSO",
          "LSO",
          "LBR",
          "LBR",
          "LBR",
          "LIE",
          "LIE",
          "LIE",
          "LTU",
          "LUX",
          "LUX",
          "LUX",
          "MDG",
          "MDG",
          "MDG",
          "MWI",
          "MWI",
          "MWI",
          "MYS",
          "MYS",
          "MYS",
          "MDV",
          "MDV",
          "MDV",
          "MLI",
          "MLI",
          "MLI",
          "MLT",
          "MLT",
          "MLT",
          "MHL",
          "MHL",
          "MHL",
          "MRT",
          "MRT",
          "MRT",
          "MUS",
          "MUS",
          "MUS",
          "MEX",
          "MEX",
          "MEX",
          "FSM",
          "FSM",
          "FSM",
          "MNG",
          "MNG",
          "MNG",
          "MNE",
          "MNE",
          "MNE",
          "MSR",
          "MAR",
          "MAR",
          "MAR",
          "MOZ",
          "MOZ",
          "MOZ",
          "MMR",
          "MMR",
          "MMR",
          "NAM",
          "NAM",
          "NAM",
          "NRU",
          "NRU",
          "NRU",
          "NPL",
          "NPL",
          "NPL",
          "NLD",
          "NLD",
          "NLD",
          "NZL",
          "NZL",
          "NZL",
          "NER",
          "NER",
          "NER",
          "NOR",
          "NOR",
          "NOR",
          "OMN",
          "OMN",
          "OMN",
          "PLW",
          "PAN",
          "PAN",
          "PAN",
          "PNG",
          "PNG",
          "PNG",
          "PER",
          "PER",
          "PER",
          "PHL",
          "PHL",
          "PHL",
          "POL",
          "POL",
          "POL",
          "PRT",
          "PRT",
          "PRT",
          "QAT",
          "QAT",
          "QAT",
          "KOR",
          "KOR",
          "KOR",
          "MDA",
          "ROU",
          "ROU",
          "ROU",
          "RUS",
          "RUS",
          "RUS",
          "RWA",
          "RWA",
          "RWA",
          "LCA",
          "LCA",
          "LCA",
          "VCT",
          "VCT",
          "VCT",
          "WSM",
          "SMR",
          "SMR",
          "SMR",
          "STP",
          "STP",
          "STP",
          "SAU",
          "SAU",
          "SAU",
          "SEN",
          "SEN",
          "SEN",
          "SRB",
          "SRB",
          "SRB",
          "SYC",
          "SYC",
          "SYC",
          "SLE",
          "SLE",
          "SLE",
          "SGP",
          "SGP",
          "SGP",
          "SVK",
          "SVK",
          "SVK",
          "SVN",
          "SVN",
          "SVN",
          "ZAF",
          "ZAF",
          "ZAF",
          "SSD",
          "SSD",
          "SSD",
          "ESP",
          "ESP",
          "ESP",
          "LKA",
          "LKA",
          "LKA",
          "PSE",
          "PSE",
          "PSE",
          "SDN",
          "SDN",
          "SDN",
          "SUR",
          "SUR",
          "SUR",
          "SWE",
          "CHE",
          "CHE",
          "CHE",
          "TLS",
          "TLS",
          "TLS",
          "TGO",
          "TGO",
          "TGO",
          "TON",
          "TON",
          "TON",
          "TCA",
          "TCA",
          "TCA",
          "TUV",
          "TUV",
          "TUV",
          "TUR",
          "TUR",
          "TUR",
          "UGA",
          "UGA",
          "UGA",
          "UKR",
          "UKR",
          "UKR",
          "ARE",
          "ARE",
          "ARE",
          "GBR",
          "GBR",
          "GBR",
          "TZA",
          "TZA",
          "TZA",
          "URY",
          "URY",
          "URY",
          "UZB",
          "UZB",
          "UZB",
          "VUT",
          "VUT",
          "VUT",
          "VEN",
          "VEN",
          "VEN",
          "YEM",
          "YEM",
          "YEM",
          "ZWE"
         ],
         "name": "",
         "type": "choropleth",
         "z": [
          1.30401,
          5.47868,
          3.54768,
          3.27628,
          1.77203,
          2.51633,
          1.2537,
          0.63537,
          0.93901,
          8.62643,
          10.78141,
          9.77754,
          2.15327,
          1.8969,
          2.02186,
          0.45182,
          1.12154,
          0.79665,
          0.46449,
          0.76283,
          0.62423,
          0.12792,
          7.03717,
          3.73934,
          25.43216,
          40.49489,
          33.12739,
          3.74291,
          3.58638,
          3.66317,
          0.81306,
          1.28882,
          0.14013,
          0.16931,
          0.48752,
          0.33254,
          16.0596,
          14.46601,
          15.2496,
          46.17726,
          38.07798,
          42.0731,
          5.84736,
          17.99222,
          12.01717,
          11.46017,
          11.71913,
          11.59237,
          7.07804,
          5.31796,
          6.18157,
          9.26597,
          10.61073,
          9.94483,
          1.21044,
          3.43146,
          2.35421,
          4.82655,
          0.2562,
          15.18407,
          13.99865,
          14.57411,
          44.10687,
          49.21367,
          46.70875,
          26.31855,
          32.98969,
          29.66191,
          13.23869,
          11.79554,
          12.51439,
          12.10451,
          17.14824,
          14.66981,
          40.39397,
          33.08228,
          36.71663,
          0.24058,
          0.33148,
          0.07248,
          61.41152,
          42.85513,
          52.11755,
          69.53501,
          54.93513,
          62.22386,
          4.39624,
          3.35296,
          3.86558,
          0.25041,
          1.57044,
          0.92469,
          18.2504,
          20.13362,
          19.20764,
          1.23457,
          0.8726,
          2.93487,
          3.5715,
          4.12071,
          3.8524,
          1.10076,
          12.15064,
          12.69275,
          12.42943,
          2.24891,
          2.37436,
          0.64127,
          0.47337,
          0.36949,
          0.42009,
          43.86586,
          40.20135,
          42.0282,
          0.84769,
          0.25602,
          0.14474,
          38.88836,
          40.09777,
          39.5577,
          1.03093,
          2.94811,
          2.77674,
          8.26328,
          9.51924,
          8.90031,
          2.06661,
          5.26648,
          1.53262,
          1.60303,
          3.12572,
          2.38687,
          40.28999,
          32.03627,
          36.08021,
          1.04433,
          1.62309,
          1.34192,
          2.94646,
          2.57896,
          2.76242,
          49.19427,
          44.94866,
          47.04813,
          0.68216,
          0.30476,
          0.63698,
          0.14656,
          0.51075,
          0.4155,
          0.46203,
          28.64093,
          31.76935,
          30.21708,
          7.43394,
          21.63297,
          14.57672,
          0.5853,
          1.66651,
          1.15697,
          3.15616,
          5.36824,
          4.30337,
          5.89727,
          9.27129,
          7.61995,
          3.72949,
          2.65105,
          3.17632,
          3.19657,
          36.76773,
          32.69608,
          34.68919,
          61.88214,
          46.06227,
          53.88907,
          0,
          0,
          0,
          38.24275,
          40.69245,
          39.49258,
          3.19793,
          2.77284,
          2.97966,
          0.4637,
          0.50094,
          0.2721,
          13.41546,
          16.66883,
          15.12684,
          13.53151,
          18.97771,
          16.33552,
          2.78486,
          0.75616,
          1.74555,
          0.63279,
          0.01179,
          2.6382,
          2.2631,
          2.44502,
          27.86257,
          27.83603,
          27.84917,
          0.01898,
          3.8316,
          8.5292,
          6.27645,
          0.83754,
          0.19185,
          0.50845,
          30.52555,
          30.46225,
          30.49338,
          1.46978,
          1.99778,
          1.74196,
          11.45756,
          17.61189,
          14.52918,
          25.67108,
          17.02007,
          21.28734,
          6.55308,
          1.42672,
          2.60459,
          0.14682,
          3.60726,
          1.34392,
          2.44894,
          28.99433,
          31.06049,
          30.03208,
          18.13865,
          18.98974,
          18.56497,
          9.56901,
          12.81806,
          11.24042,
          14.79679,
          2.73029,
          8.62392,
          56.25222,
          49.39055,
          52.77266,
          1.20306,
          1.93618,
          1.53085,
          25.81072,
          29.93025,
          27.91451,
          25.47205,
          30.77602,
          28.16043,
          2.09903,
          4.66102,
          3.40433,
          6.44447,
          8.8073,
          7.64868,
          10.27919,
          15.10188,
          12.7594,
          7.2982,
          7.78882,
          7.54602,
          6.21841,
          5.95755,
          6.08159,
          7.33867,
          8.51725,
          5.87188,
          7.16013,
          40.98358,
          34.96673,
          37.98249,
          19.81454,
          22.10723,
          20.96568,
          0.49105,
          2.68947,
          1.29893,
          3.50467,
          12.32558,
          7.92541,
          3.16434,
          7.43954,
          5.33436,
          2.27174,
          3.25716,
          2.77793,
          0.02619,
          0.17013,
          0.10006,
          69.05776,
          60.96838,
          64.94287,
          1.25415,
          0.36675,
          0.42004,
          2.91625,
          2.40822,
          2.65875,
          15.93291,
          11.60816,
          12.72752,
          12.17886,
          31.64995,
          23.64777,
          27.52129,
          3.33291,
          3.45729,
          1.76867,
          6.80489,
          11.81499,
          9.3812,
          4.32734,
          2.29473,
          3.28863,
          0.36214,
          0.32218,
          0.13812,
          9.78079,
          4.12435,
          6.97839,
          4.9438,
          4.80031,
          4.8695,
          0.81175,
          11.50418,
          10.88256,
          11.1849,
          1.49978,
          2.24764,
          0.23829,
          2.00141,
          5.54502,
          3.76629,
          9.52108,
          8.71031,
          9.11155,
          0.03893,
          5.80456,
          3.0051,
          2.12679,
          8.25688,
          8.58209,
          8.41813,
          6.79693,
          12.32539,
          9.58734,
          2.54311,
          0.36638,
          1.62103,
          56.66851,
          63.61872,
          60.1813,
          2.62506,
          2.94631,
          2.7902,
          6.55124,
          8.85561,
          2.92379,
          49.16676,
          48.89217,
          49.02927,
          0.19148,
          0.41017,
          0.30335,
          4.76226,
          4.47003,
          4.61258,
          0.6801,
          1.50417,
          1.10456,
          9.92305,
          10.71886,
          10.32395,
          63.04881,
          48.96967,
          55.93645,
          1.37094,
          1.2147,
          0.36336,
          0.11397,
          0.14894,
          0.1315,
          0.90332,
          5.12671,
          3.05891,
          35.49242,
          33.2242,
          34.34396,
          11.06859,
          18.63275,
          14.99116,
          0.15907,
          1.04961,
          0.19951,
          0.61493,
          8.57255,
          11.83839,
          10.22936,
          27.6552,
          15.27625,
          21.44502,
          4.24553,
          16.88249,
          10.88344,
          15.311,
          8.7256,
          11.95079,
          35.98326,
          30.57199,
          33.19797,
          3.99705,
          3.00352,
          3.48943,
          48.99008,
          48.52191,
          48.75536,
          3.2292,
          4.03877,
          3.64492,
          2.82278,
          1.73023,
          0.71596,
          1.88953,
          1.75478,
          0.16207,
          63.89039,
          65.78001,
          71.75247,
          0.16817,
          1.30543,
          0.83821,
          2.40017,
          0.07663,
          1.21014,
          23.59121,
          26.55475,
          25.13063,
          13.20588,
          14.9115,
          14.0777,
          34.47587,
          22.63386,
          28.44315,
          21.87541
         ]
        }
       ],
       "layout": {
        "coloraxis": {
         "colorbar": {
          "title": {
           "text": "obs_value"
          }
         },
         "colorscale": [
          [
           0,
           "#0d0887"
          ],
          [
           0.1111111111111111,
           "#46039f"
          ],
          [
           0.2222222222222222,
           "#7201a8"
          ],
          [
           0.3333333333333333,
           "#9c179e"
          ],
          [
           0.4444444444444444,
           "#bd3786"
          ],
          [
           0.5555555555555556,
           "#d8576b"
          ],
          [
           0.6666666666666666,
           "#ed7953"
          ],
          [
           0.7777777777777778,
           "#fb9f3a"
          ],
          [
           0.8888888888888888,
           "#fdca26"
          ],
          [
           1,
           "#f0f921"
          ]
         ]
        },
        "geo": {
         "center": {},
         "domain": {
          "x": [
           0,
           1
          ],
          "y": [
           0,
           1
          ]
         },
         "projection": {
          "type": "natural earth"
         }
        },
        "legend": {
         "tracegroupgap": 0
        },
        "template": {
         "data": {
          "bar": [
           {
            "error_x": {
             "color": "#2a3f5f"
            },
            "error_y": {
             "color": "#2a3f5f"
            },
            "marker": {
             "line": {
              "color": "#E5ECF6",
              "width": 0.5
             },
             "pattern": {
              "fillmode": "overlay",
              "size": 10,
              "solidity": 0.2
             }
            },
            "type": "bar"
           }
          ],
          "barpolar": [
           {
            "marker": {
             "line": {
              "color": "#E5ECF6",
              "width": 0.5
             },
             "pattern": {
              "fillmode": "overlay",
              "size": 10,
              "solidity": 0.2
             }
            },
            "type": "barpolar"
           }
          ],
          "carpet": [
           {
            "aaxis": {
             "endlinecolor": "#2a3f5f",
             "gridcolor": "white",
             "linecolor": "white",
             "minorgridcolor": "white",
             "startlinecolor": "#2a3f5f"
            },
            "baxis": {
             "endlinecolor": "#2a3f5f",
             "gridcolor": "white",
             "linecolor": "white",
             "minorgridcolor": "white",
             "startlinecolor": "#2a3f5f"
            },
            "type": "carpet"
           }
          ],
          "choropleth": [
           {
            "colorbar": {
             "outlinewidth": 0,
             "ticks": ""
            },
            "type": "choropleth"
           }
          ],
          "contour": [
           {
            "colorbar": {
             "outlinewidth": 0,
             "ticks": ""
            },
            "colorscale": [
             [
              0,
              "#0d0887"
             ],
             [
              0.1111111111111111,
              "#46039f"
             ],
             [
              0.2222222222222222,
              "#7201a8"
             ],
             [
              0.3333333333333333,
              "#9c179e"
             ],
             [
              0.4444444444444444,
              "#bd3786"
             ],
             [
              0.5555555555555556,
              "#d8576b"
             ],
             [
              0.6666666666666666,
              "#ed7953"
             ],
             [
              0.7777777777777778,
              "#fb9f3a"
             ],
             [
              0.8888888888888888,
              "#fdca26"
             ],
             [
              1,
              "#f0f921"
             ]
            ],
            "type": "contour"
           }
          ],
          "contourcarpet": [
           {
            "colorbar": {
             "outlinewidth": 0,
             "ticks": ""
            },
            "type": "contourcarpet"
           }
          ],
          "heatmap": [
           {
            "colorbar": {
             "outlinewidth": 0,
             "ticks": ""
            },
            "colorscale": [
             [
              0,
              "#0d0887"
             ],
             [
              0.1111111111111111,
              "#46039f"
             ],
             [
              0.2222222222222222,
              "#7201a8"
             ],
             [
              0.3333333333333333,
              "#9c179e"
             ],
             [
              0.4444444444444444,
              "#bd3786"
             ],
             [
              0.5555555555555556,
              "#d8576b"
             ],
             [
              0.6666666666666666,
              "#ed7953"
             ],
             [
              0.7777777777777778,
              "#fb9f3a"
             ],
             [
              0.8888888888888888,
              "#fdca26"
             ],
             [
              1,
              "#f0f921"
             ]
            ],
            "type": "heatmap"
           }
          ],
          "heatmapgl": [
           {
            "colorbar": {
             "outlinewidth": 0,
             "ticks": ""
            },
            "colorscale": [
             [
              0,
              "#0d0887"
             ],
             [
              0.1111111111111111,
              "#46039f"
             ],
             [
              0.2222222222222222,
              "#7201a8"
             ],
             [
              0.3333333333333333,
              "#9c179e"
             ],
             [
              0.4444444444444444,
              "#bd3786"
             ],
             [
              0.5555555555555556,
              "#d8576b"
             ],
             [
              0.6666666666666666,
              "#ed7953"
             ],
             [
              0.7777777777777778,
              "#fb9f3a"
             ],
             [
              0.8888888888888888,
              "#fdca26"
             ],
             [
              1,
              "#f0f921"
             ]
            ],
            "type": "heatmapgl"
           }
          ],
          "histogram": [
           {
            "marker": {
             "pattern": {
              "fillmode": "overlay",
              "size": 10,
              "solidity": 0.2
             }
            },
            "type": "histogram"
           }
          ],
          "histogram2d": [
           {
            "colorbar": {
             "outlinewidth": 0,
             "ticks": ""
            },
            "colorscale": [
             [
              0,
              "#0d0887"
             ],
             [
              0.1111111111111111,
              "#46039f"
             ],
             [
              0.2222222222222222,
              "#7201a8"
             ],
             [
              0.3333333333333333,
              "#9c179e"
             ],
             [
              0.4444444444444444,
              "#bd3786"
             ],
             [
              0.5555555555555556,
              "#d8576b"
             ],
             [
              0.6666666666666666,
              "#ed7953"
             ],
             [
              0.7777777777777778,
              "#fb9f3a"
             ],
             [
              0.8888888888888888,
              "#fdca26"
             ],
             [
              1,
              "#f0f921"
             ]
            ],
            "type": "histogram2d"
           }
          ],
          "histogram2dcontour": [
           {
            "colorbar": {
             "outlinewidth": 0,
             "ticks": ""
            },
            "colorscale": [
             [
              0,
              "#0d0887"
             ],
             [
              0.1111111111111111,
              "#46039f"
             ],
             [
              0.2222222222222222,
              "#7201a8"
             ],
             [
              0.3333333333333333,
              "#9c179e"
             ],
             [
              0.4444444444444444,
              "#bd3786"
             ],
             [
              0.5555555555555556,
              "#d8576b"
             ],
             [
              0.6666666666666666,
              "#ed7953"
             ],
             [
              0.7777777777777778,
              "#fb9f3a"
             ],
             [
              0.8888888888888888,
              "#fdca26"
             ],
             [
              1,
              "#f0f921"
             ]
            ],
            "type": "histogram2dcontour"
           }
          ],
          "mesh3d": [
           {
            "colorbar": {
             "outlinewidth": 0,
             "ticks": ""
            },
            "type": "mesh3d"
           }
          ],
          "parcoords": [
           {
            "line": {
             "colorbar": {
              "outlinewidth": 0,
              "ticks": ""
             }
            },
            "type": "parcoords"
           }
          ],
          "pie": [
           {
            "automargin": true,
            "type": "pie"
           }
          ],
          "scatter": [
           {
            "fillpattern": {
             "fillmode": "overlay",
             "size": 10,
             "solidity": 0.2
            },
            "type": "scatter"
           }
          ],
          "scatter3d": [
           {
            "line": {
             "colorbar": {
              "outlinewidth": 0,
              "ticks": ""
             }
            },
            "marker": {
             "colorbar": {
              "outlinewidth": 0,
              "ticks": ""
             }
            },
            "type": "scatter3d"
           }
          ],
          "scattercarpet": [
           {
            "marker": {
             "colorbar": {
              "outlinewidth": 0,
              "ticks": ""
             }
            },
            "type": "scattercarpet"
           }
          ],
          "scattergeo": [
           {
            "marker": {
             "colorbar": {
              "outlinewidth": 0,
              "ticks": ""
             }
            },
            "type": "scattergeo"
           }
          ],
          "scattergl": [
           {
            "marker": {
             "colorbar": {
              "outlinewidth": 0,
              "ticks": ""
             }
            },
            "type": "scattergl"
           }
          ],
          "scattermapbox": [
           {
            "marker": {
             "colorbar": {
              "outlinewidth": 0,
              "ticks": ""
             }
            },
            "type": "scattermapbox"
           }
          ],
          "scatterpolar": [
           {
            "marker": {
             "colorbar": {
              "outlinewidth": 0,
              "ticks": ""
             }
            },
            "type": "scatterpolar"
           }
          ],
          "scatterpolargl": [
           {
            "marker": {
             "colorbar": {
              "outlinewidth": 0,
              "ticks": ""
             }
            },
            "type": "scatterpolargl"
           }
          ],
          "scatterternary": [
           {
            "marker": {
             "colorbar": {
              "outlinewidth": 0,
              "ticks": ""
             }
            },
            "type": "scatterternary"
           }
          ],
          "surface": [
           {
            "colorbar": {
             "outlinewidth": 0,
             "ticks": ""
            },
            "colorscale": [
             [
              0,
              "#0d0887"
             ],
             [
              0.1111111111111111,
              "#46039f"
             ],
             [
              0.2222222222222222,
              "#7201a8"
             ],
             [
              0.3333333333333333,
              "#9c179e"
             ],
             [
              0.4444444444444444,
              "#bd3786"
             ],
             [
              0.5555555555555556,
              "#d8576b"
             ],
             [
              0.6666666666666666,
              "#ed7953"
             ],
             [
              0.7777777777777778,
              "#fb9f3a"
             ],
             [
              0.8888888888888888,
              "#fdca26"
             ],
             [
              1,
              "#f0f921"
             ]
            ],
            "type": "surface"
           }
          ],
          "table": [
           {
            "cells": {
             "fill": {
              "color": "#EBF0F8"
             },
             "line": {
              "color": "white"
             }
            },
            "header": {
             "fill": {
              "color": "#C8D4E3"
             },
             "line": {
              "color": "white"
             }
            },
            "type": "table"
           }
          ]
         },
         "layout": {
          "annotationdefaults": {
           "arrowcolor": "#2a3f5f",
           "arrowhead": 0,
           "arrowwidth": 1
          },
          "autotypenumbers": "strict",
          "coloraxis": {
           "colorbar": {
            "outlinewidth": 0,
            "ticks": ""
           }
          },
          "colorscale": {
           "diverging": [
            [
             0,
             "#8e0152"
            ],
            [
             0.1,
             "#c51b7d"
            ],
            [
             0.2,
             "#de77ae"
            ],
            [
             0.3,
             "#f1b6da"
            ],
            [
             0.4,
             "#fde0ef"
            ],
            [
             0.5,
             "#f7f7f7"
            ],
            [
             0.6,
             "#e6f5d0"
            ],
            [
             0.7,
             "#b8e186"
            ],
            [
             0.8,
             "#7fbc41"
            ],
            [
             0.9,
             "#4d9221"
            ],
            [
             1,
             "#276419"
            ]
           ],
           "sequential": [
            [
             0,
             "#0d0887"
            ],
            [
             0.1111111111111111,
             "#46039f"
            ],
            [
             0.2222222222222222,
             "#7201a8"
            ],
            [
             0.3333333333333333,
             "#9c179e"
            ],
            [
             0.4444444444444444,
             "#bd3786"
            ],
            [
             0.5555555555555556,
             "#d8576b"
            ],
            [
             0.6666666666666666,
             "#ed7953"
            ],
            [
             0.7777777777777778,
             "#fb9f3a"
            ],
            [
             0.8888888888888888,
             "#fdca26"
            ],
            [
             1,
             "#f0f921"
            ]
           ],
           "sequentialminus": [
            [
             0,
             "#0d0887"
            ],
            [
             0.1111111111111111,
             "#46039f"
            ],
            [
             0.2222222222222222,
             "#7201a8"
            ],
            [
             0.3333333333333333,
             "#9c179e"
            ],
            [
             0.4444444444444444,
             "#bd3786"
            ],
            [
             0.5555555555555556,
             "#d8576b"
            ],
            [
             0.6666666666666666,
             "#ed7953"
            ],
            [
             0.7777777777777778,
             "#fb9f3a"
            ],
            [
             0.8888888888888888,
             "#fdca26"
            ],
            [
             1,
             "#f0f921"
            ]
           ]
          },
          "colorway": [
           "#636efa",
           "#EF553B",
           "#00cc96",
           "#ab63fa",
           "#FFA15A",
           "#19d3f3",
           "#FF6692",
           "#B6E880",
           "#FF97FF",
           "#FECB52"
          ],
          "font": {
           "color": "#2a3f5f"
          },
          "geo": {
           "bgcolor": "white",
           "lakecolor": "white",
           "landcolor": "#E5ECF6",
           "showlakes": true,
           "showland": true,
           "subunitcolor": "white"
          },
          "hoverlabel": {
           "align": "left"
          },
          "hovermode": "closest",
          "mapbox": {
           "style": "light"
          },
          "paper_bgcolor": "white",
          "plot_bgcolor": "#E5ECF6",
          "polar": {
           "angularaxis": {
            "gridcolor": "white",
            "linecolor": "white",
            "ticks": ""
           },
           "bgcolor": "#E5ECF6",
           "radialaxis": {
            "gridcolor": "white",
            "linecolor": "white",
            "ticks": ""
           }
          },
          "scene": {
           "xaxis": {
            "backgroundcolor": "#E5ECF6",
            "gridcolor": "white",
            "gridwidth": 2,
            "linecolor": "white",
            "showbackground": true,
            "ticks": "",
            "zerolinecolor": "white"
           },
           "yaxis": {
            "backgroundcolor": "#E5ECF6",
            "gridcolor": "white",
            "gridwidth": 2,
            "linecolor": "white",
            "showbackground": true,
            "ticks": "",
            "zerolinecolor": "white"
           },
           "zaxis": {
            "backgroundcolor": "#E5ECF6",
            "gridcolor": "white",
            "gridwidth": 2,
            "linecolor": "white",
            "showbackground": true,
            "ticks": "",
            "zerolinecolor": "white"
           }
          },
          "shapedefaults": {
           "line": {
            "color": "#2a3f5f"
           }
          },
          "ternary": {
           "aaxis": {
            "gridcolor": "white",
            "linecolor": "white",
            "ticks": ""
           },
           "baxis": {
            "gridcolor": "white",
            "linecolor": "white",
            "ticks": ""
           },
           "bgcolor": "#E5ECF6",
           "caxis": {
            "gridcolor": "white",
            "linecolor": "white",
            "ticks": ""
           }
          },
          "title": {
           "x": 0.05
          },
          "xaxis": {
           "automargin": true,
           "gridcolor": "white",
           "linecolor": "white",
           "ticks": "",
           "title": {
            "standoff": 15
           },
           "zerolinecolor": "white",
           "zerolinewidth": 2
          },
          "yaxis": {
           "automargin": true,
           "gridcolor": "white",
           "linecolor": "white",
           "ticks": "",
           "title": {
            "standoff": 15
           },
           "zerolinecolor": "white",
           "zerolinewidth": 2
          }
         }
        },
        "title": {
         "text": "GDP per Capita by Country"
        }
       }
      },
      "text/html": [
       "<div>                            <div id=\"53d5edd2-11af-43e1-b192-a75e7ea2ea03\" class=\"plotly-graph-div\" style=\"height:525px; width:100%;\"></div>            <script type=\"text/javascript\">                require([\"plotly\"], function(Plotly) {                    window.PLOTLYENV=window.PLOTLYENV || {};                                    if (document.getElementById(\"53d5edd2-11af-43e1-b192-a75e7ea2ea03\")) {                    Plotly.newPlot(                        \"53d5edd2-11af-43e1-b192-a75e7ea2ea03\",                        [{\"coloraxis\":\"coloraxis\",\"geo\":\"geo\",\"hovertemplate\":\"<b>%{hovertext}</b><br><br>alpha_3_code=%{location}<br>obs_value=%{z}<extra></extra>\",\"hovertext\":[\"Albania\",\"Albania\",\"Albania\",\"Antigua and Barbuda\",\"Antigua and Barbuda\",\"Antigua and Barbuda\",\"Argentina\",\"Argentina\",\"Argentina\",\"Armenia\",\"Armenia\",\"Armenia\",\"Australia\",\"Australia\",\"Australia\",\"Austria\",\"Austria\",\"Austria\",\"Azerbaijan\",\"Azerbaijan\",\"Azerbaijan\",\"Bahrain\",\"Bahrain\",\"Bahrain\",\"Bangladesh\",\"Bangladesh\",\"Bangladesh\",\"Barbados\",\"Barbados\",\"Barbados\",\"Belarus\",\"Belarus\",\"Belarus\",\"Belgium\",\"Belgium\",\"Belgium\",\"Belize\",\"Belize\",\"Belize\",\"Benin\",\"Benin\",\"Benin\",\"Bhutan\",\"Bhutan\",\"Bhutan\",\"Bolivia, Plurinational State of\",\"Bolivia, Plurinational State of\",\"Bolivia, Plurinational State of\",\"Bosnia and Herzegovina\",\"Bosnia and Herzegovina\",\"Bosnia and Herzegovina\",\"Botswana\",\"Botswana\",\"Botswana\",\"Brazil\",\"Brazil\",\"Brazil\",\"Virgin Islands, British\",\"Brunei\",\"Bulgaria\",\"Bulgaria\",\"Bulgaria\",\"Burkina Faso\",\"Burkina Faso\",\"Burkina Faso\",\"Burundi\",\"Burundi\",\"Burundi\",\"Cape Verde\",\"Cape Verde\",\"Cape Verde\",\"Cambodia\",\"Cambodia\",\"Cambodia\",\"Cameroon\",\"Cameroon\",\"Cameroon\",\"Canada\",\"Canada\",\"Canada\",\"Central African Republic\",\"Central African Republic\",\"Central African Republic\",\"Chad\",\"Chad\",\"Chad\",\"Chile\",\"Chile\",\"Chile\",\"Colombia\",\"Colombia\",\"Colombia\",\"Comoros\",\"Comoros\",\"Comoros\",\"Cook Islands\",\"Cook Islands\",\"Cook Islands\",\"Costa Rica\",\"Costa Rica\",\"Costa Rica\",\"Croatia\",\"Cuba\",\"Cuba\",\"Cuba\",\"Cyprus\",\"Cyprus\",\"Cyprus\",\"Czech Republic\",\"Czech Republic\",\"Czech Republic\",\"Ivory Coast\",\"Ivory Coast\",\"Ivory Coast\",\"Denmark\",\"Denmark\",\"Denmark\",\"Djibouti\",\"Djibouti\",\"Djibouti\",\"Dominica\",\"Dominica\",\"Dominica\",\"Dominican Republic\",\"Dominican Republic\",\"Dominican Republic\",\"Ecuador\",\"Ecuador\",\"Ecuador\",\"Egypt\",\"Egypt\",\"Egypt\",\"Eritrea\",\"Eritrea\",\"Eritrea\",\"Estonia\",\"Estonia\",\"Estonia\",\"Swaziland\",\"Swaziland\",\"Swaziland\",\"Ethiopia\",\"Ethiopia\",\"Ethiopia\",\"Fiji\",\"Finland\",\"Finland\",\"Finland\",\"France\",\"France\",\"France\",\"Gabon\",\"Gabon\",\"Gabon\",\"Gambia\",\"Gambia\",\"Gambia\",\"Georgia\",\"Georgia\",\"Georgia\",\"Germany\",\"Germany\",\"Germany\",\"Ghana\",\"Ghana\",\"Ghana\",\"Greece\",\"Greece\",\"Greece\",\"Grenada\",\"Guatemala\",\"Guatemala\",\"Guatemala\",\"Guinea\",\"Guinea\",\"Guinea\",\"Holy See (Vatican City State)\",\"Holy See (Vatican City State)\",\"Holy See (Vatican City State)\",\"Honduras\",\"Honduras\",\"Honduras\",\"Hungary\",\"Hungary\",\"Hungary\",\"Iceland\",\"Iceland\",\"Iceland\",\"India\",\"India\",\"India\",\"Indonesia\",\"Indonesia\",\"Indonesia\",\"Iran, Islamic Republic of\",\"Iran, Islamic Republic of\",\"Iran, Islamic Republic of\",\"Ireland\",\"Israel\",\"Italy\",\"Italy\",\"Italy\",\"Jordan\",\"Jordan\",\"Jordan\",\"Kazakhstan\",\"Kuwait\",\"Kuwait\",\"Kuwait\",\"Kyrgyzstan\",\"Kyrgyzstan\",\"Kyrgyzstan\",\"Lao People's Democratic Republic\",\"Lao People's Democratic Republic\",\"Lao People's Democratic Republic\",\"Latvia\",\"Latvia\",\"Latvia\",\"Lesotho\",\"Lesotho\",\"Lesotho\",\"Liberia\",\"Liberia\",\"Liberia\",\"Liechtenstein\",\"Liechtenstein\",\"Liechtenstein\",\"Lithuania\",\"Luxembourg\",\"Luxembourg\",\"Luxembourg\",\"Madagascar\",\"Madagascar\",\"Madagascar\",\"Malawi\",\"Malawi\",\"Malawi\",\"Malaysia\",\"Malaysia\",\"Malaysia\",\"Maldives\",\"Maldives\",\"Maldives\",\"Mali\",\"Mali\",\"Mali\",\"Malta\",\"Malta\",\"Malta\",\"Marshall Islands\",\"Marshall Islands\",\"Marshall Islands\",\"Mauritania\",\"Mauritania\",\"Mauritania\",\"Mauritius\",\"Mauritius\",\"Mauritius\",\"Mexico\",\"Mexico\",\"Mexico\",\"Micronesia, Federated States of\",\"Micronesia, Federated States of\",\"Micronesia, Federated States of\",\"Mongolia\",\"Mongolia\",\"Mongolia\",\"Montenegro\",\"Montenegro\",\"Montenegro\",\"Montserrat\",\"Morocco\",\"Morocco\",\"Morocco\",\"Mozambique\",\"Mozambique\",\"Mozambique\",\"Burma\",\"Burma\",\"Burma\",\"Namibia\",\"Namibia\",\"Namibia\",\"Nauru\",\"Nauru\",\"Nauru\",\"Nepal\",\"Nepal\",\"Nepal\",\"Netherlands\",\"Netherlands\",\"Netherlands\",\"New Zealand\",\"New Zealand\",\"New Zealand\",\"Niger\",\"Niger\",\"Niger\",\"Norway\",\"Norway\",\"Norway\",\"Oman\",\"Oman\",\"Oman\",\"Palau\",\"Panama\",\"Panama\",\"Panama\",\"Papua New Guinea\",\"Papua New Guinea\",\"Papua New Guinea\",\"Peru\",\"Peru\",\"Peru\",\"Philippines\",\"Philippines\",\"Philippines\",\"Poland\",\"Poland\",\"Poland\",\"Portugal\",\"Portugal\",\"Portugal\",\"Qatar\",\"Qatar\",\"Qatar\",\"South Korea\",\"South Korea\",\"South Korea\",\"Moldova, Republic of\",\"Romania\",\"Romania\",\"Romania\",\"Russia\",\"Russia\",\"Russia\",\"Rwanda\",\"Rwanda\",\"Rwanda\",\"Saint Lucia\",\"Saint Lucia\",\"Saint Lucia\",\"Saint Vincent and the Grenadines\",\"Saint Vincent and the Grenadines\",\"Saint Vincent and the Grenadines\",\"Samoa\",\"San Marino\",\"San Marino\",\"San Marino\",\"Sao Tome and Principe\",\"Sao Tome and Principe\",\"Sao Tome and Principe\",\"Saudi Arabia\",\"Saudi Arabia\",\"Saudi Arabia\",\"Senegal\",\"Senegal\",\"Senegal\",\"Serbia\",\"Serbia\",\"Serbia\",\"Seychelles\",\"Seychelles\",\"Seychelles\",\"Sierra Leone\",\"Sierra Leone\",\"Sierra Leone\",\"Singapore\",\"Singapore\",\"Singapore\",\"Slovakia\",\"Slovakia\",\"Slovakia\",\"Slovenia\",\"Slovenia\",\"Slovenia\",\"South Africa\",\"South Africa\",\"South Africa\",\"South Sudan\",\"South Sudan\",\"South Sudan\",\"Spain\",\"Spain\",\"Spain\",\"Sri Lanka\",\"Sri Lanka\",\"Sri Lanka\",\"Palestinian Territory, Occupied\",\"Palestinian Territory, Occupied\",\"Palestinian Territory, Occupied\",\"Sudan\",\"Sudan\",\"Sudan\",\"Suriname\",\"Suriname\",\"Suriname\",\"Sweden\",\"Switzerland\",\"Switzerland\",\"Switzerland\",\"Timor-Leste\",\"Timor-Leste\",\"Timor-Leste\",\"Togo\",\"Togo\",\"Togo\",\"Tonga\",\"Tonga\",\"Tonga\",\"Turks and Caicos Islands\",\"Turks and Caicos Islands\",\"Turks and Caicos Islands\",\"Tuvalu\",\"Tuvalu\",\"Tuvalu\",\"Turkey\",\"Turkey\",\"Turkey\",\"Uganda\",\"Uganda\",\"Uganda\",\"Ukraine\",\"Ukraine\",\"Ukraine\",\"United Arab Emirates\",\"United Arab Emirates\",\"United Arab Emirates\",\"United Kingdom\",\"United Kingdom\",\"United Kingdom\",\"Tanzania, United Republic of\",\"Tanzania, United Republic of\",\"Tanzania, United Republic of\",\"Uruguay\",\"Uruguay\",\"Uruguay\",\"Uzbekistan\",\"Uzbekistan\",\"Uzbekistan\",\"Vanuatu\",\"Vanuatu\",\"Vanuatu\",\"Venezuela, Bolivarian Republic of\",\"Venezuela, Bolivarian Republic of\",\"Venezuela, Bolivarian Republic of\",\"Yemen\",\"Yemen\",\"Yemen\",\"Zimbabwe\"],\"locations\":[\"ALB\",\"ALB\",\"ALB\",\"ATG\",\"ATG\",\"ATG\",\"ARG\",\"ARG\",\"ARG\",\"ARM\",\"ARM\",\"ARM\",\"AUS\",\"AUS\",\"AUS\",\"AUT\",\"AUT\",\"AUT\",\"AZE\",\"AZE\",\"AZE\",\"BHR\",\"BHR\",\"BHR\",\"BGD\",\"BGD\",\"BGD\",\"BRB\",\"BRB\",\"BRB\",\"BLR\",\"BLR\",\"BLR\",\"BEL\",\"BEL\",\"BEL\",\"BLZ\",\"BLZ\",\"BLZ\",\"BEN\",\"BEN\",\"BEN\",\"BTN\",\"BTN\",\"BTN\",\"BOL\",\"BOL\",\"BOL\",\"BIH\",\"BIH\",\"BIH\",\"BWA\",\"BWA\",\"BWA\",\"BRA\",\"BRA\",\"BRA\",\"VGB\",\"BRN\",\"BGR\",\"BGR\",\"BGR\",\"BFA\",\"BFA\",\"BFA\",\"BDI\",\"BDI\",\"BDI\",\"CPV\",\"CPV\",\"CPV\",\"KHM\",\"KHM\",\"KHM\",\"CMR\",\"CMR\",\"CMR\",\"CAN\",\"CAN\",\"CAN\",\"CAF\",\"CAF\",\"CAF\",\"TCD\",\"TCD\",\"TCD\",\"CHL\",\"CHL\",\"CHL\",\"COL\",\"COL\",\"COL\",\"COM\",\"COM\",\"COM\",\"COK\",\"COK\",\"COK\",\"CRI\",\"CRI\",\"CRI\",\"HRV\",\"CUB\",\"CUB\",\"CUB\",\"CYP\",\"CYP\",\"CYP\",\"CZE\",\"CZE\",\"CZE\",\"CIV\",\"CIV\",\"CIV\",\"DNK\",\"DNK\",\"DNK\",\"DJI\",\"DJI\",\"DJI\",\"DMA\",\"DMA\",\"DMA\",\"DOM\",\"DOM\",\"DOM\",\"ECU\",\"ECU\",\"ECU\",\"EGY\",\"EGY\",\"EGY\",\"ERI\",\"ERI\",\"ERI\",\"EST\",\"EST\",\"EST\",\"SWZ\",\"SWZ\",\"SWZ\",\"ETH\",\"ETH\",\"ETH\",\"FJI\",\"FIN\",\"FIN\",\"FIN\",\"FRA\",\"FRA\",\"FRA\",\"GAB\",\"GAB\",\"GAB\",\"GMB\",\"GMB\",\"GMB\",\"GEO\",\"GEO\",\"GEO\",\"DEU\",\"DEU\",\"DEU\",\"GHA\",\"GHA\",\"GHA\",\"GRC\",\"GRC\",\"GRC\",\"GRD\",\"GTM\",\"GTM\",\"GTM\",\"GIN\",\"GIN\",\"GIN\",\"VAT\",\"VAT\",\"VAT\",\"HND\",\"HND\",\"HND\",\"HUN\",\"HUN\",\"HUN\",\"ISL\",\"ISL\",\"ISL\",\"IND\",\"IND\",\"IND\",\"IDN\",\"IDN\",\"IDN\",\"IRN\",\"IRN\",\"IRN\",\"IRL\",\"ISR\",\"ITA\",\"ITA\",\"ITA\",\"JOR\",\"JOR\",\"JOR\",\"KAZ\",\"KWT\",\"KWT\",\"KWT\",\"KGZ\",\"KGZ\",\"KGZ\",\"LAO\",\"LAO\",\"LAO\",\"LVA\",\"LVA\",\"LVA\",\"LSO\",\"LSO\",\"LSO\",\"LBR\",\"LBR\",\"LBR\",\"LIE\",\"LIE\",\"LIE\",\"LTU\",\"LUX\",\"LUX\",\"LUX\",\"MDG\",\"MDG\",\"MDG\",\"MWI\",\"MWI\",\"MWI\",\"MYS\",\"MYS\",\"MYS\",\"MDV\",\"MDV\",\"MDV\",\"MLI\",\"MLI\",\"MLI\",\"MLT\",\"MLT\",\"MLT\",\"MHL\",\"MHL\",\"MHL\",\"MRT\",\"MRT\",\"MRT\",\"MUS\",\"MUS\",\"MUS\",\"MEX\",\"MEX\",\"MEX\",\"FSM\",\"FSM\",\"FSM\",\"MNG\",\"MNG\",\"MNG\",\"MNE\",\"MNE\",\"MNE\",\"MSR\",\"MAR\",\"MAR\",\"MAR\",\"MOZ\",\"MOZ\",\"MOZ\",\"MMR\",\"MMR\",\"MMR\",\"NAM\",\"NAM\",\"NAM\",\"NRU\",\"NRU\",\"NRU\",\"NPL\",\"NPL\",\"NPL\",\"NLD\",\"NLD\",\"NLD\",\"NZL\",\"NZL\",\"NZL\",\"NER\",\"NER\",\"NER\",\"NOR\",\"NOR\",\"NOR\",\"OMN\",\"OMN\",\"OMN\",\"PLW\",\"PAN\",\"PAN\",\"PAN\",\"PNG\",\"PNG\",\"PNG\",\"PER\",\"PER\",\"PER\",\"PHL\",\"PHL\",\"PHL\",\"POL\",\"POL\",\"POL\",\"PRT\",\"PRT\",\"PRT\",\"QAT\",\"QAT\",\"QAT\",\"KOR\",\"KOR\",\"KOR\",\"MDA\",\"ROU\",\"ROU\",\"ROU\",\"RUS\",\"RUS\",\"RUS\",\"RWA\",\"RWA\",\"RWA\",\"LCA\",\"LCA\",\"LCA\",\"VCT\",\"VCT\",\"VCT\",\"WSM\",\"SMR\",\"SMR\",\"SMR\",\"STP\",\"STP\",\"STP\",\"SAU\",\"SAU\",\"SAU\",\"SEN\",\"SEN\",\"SEN\",\"SRB\",\"SRB\",\"SRB\",\"SYC\",\"SYC\",\"SYC\",\"SLE\",\"SLE\",\"SLE\",\"SGP\",\"SGP\",\"SGP\",\"SVK\",\"SVK\",\"SVK\",\"SVN\",\"SVN\",\"SVN\",\"ZAF\",\"ZAF\",\"ZAF\",\"SSD\",\"SSD\",\"SSD\",\"ESP\",\"ESP\",\"ESP\",\"LKA\",\"LKA\",\"LKA\",\"PSE\",\"PSE\",\"PSE\",\"SDN\",\"SDN\",\"SDN\",\"SUR\",\"SUR\",\"SUR\",\"SWE\",\"CHE\",\"CHE\",\"CHE\",\"TLS\",\"TLS\",\"TLS\",\"TGO\",\"TGO\",\"TGO\",\"TON\",\"TON\",\"TON\",\"TCA\",\"TCA\",\"TCA\",\"TUV\",\"TUV\",\"TUV\",\"TUR\",\"TUR\",\"TUR\",\"UGA\",\"UGA\",\"UGA\",\"UKR\",\"UKR\",\"UKR\",\"ARE\",\"ARE\",\"ARE\",\"GBR\",\"GBR\",\"GBR\",\"TZA\",\"TZA\",\"TZA\",\"URY\",\"URY\",\"URY\",\"UZB\",\"UZB\",\"UZB\",\"VUT\",\"VUT\",\"VUT\",\"VEN\",\"VEN\",\"VEN\",\"YEM\",\"YEM\",\"YEM\",\"ZWE\"],\"name\":\"\",\"z\":[1.30401,5.47868,3.54768,3.27628,1.77203,2.51633,1.2537,0.63537,0.93901,8.62643,10.78141,9.77754,2.15327,1.8969,2.02186,0.45182,1.12154,0.79665,0.46449,0.76283,0.62423,0.12792,7.03717,3.73934,25.43216,40.49489,33.12739,3.74291,3.58638,3.66317,0.81306,1.28882,0.14013,0.16931,0.48752,0.33254,16.0596,14.46601,15.2496,46.17726,38.07798,42.0731,5.84736,17.99222,12.01717,11.46017,11.71913,11.59237,7.07804,5.31796,6.18157,9.26597,10.61073,9.94483,1.21044,3.43146,2.35421,4.82655,0.2562,15.18407,13.99865,14.57411,44.10687,49.21367,46.70875,26.31855,32.98969,29.66191,13.23869,11.79554,12.51439,12.10451,17.14824,14.66981,40.39397,33.08228,36.71663,0.24058,0.33148,0.07248,61.41152,42.85513,52.11755,69.53501,54.93513,62.22386,4.39624,3.35296,3.86558,0.25041,1.57044,0.92469,18.2504,20.13362,19.20764,1.23457,0.8726,2.93487,3.5715,4.12071,3.8524,1.10076,12.15064,12.69275,12.42943,2.24891,2.37436,0.64127,0.47337,0.36949,0.42009,43.86586,40.20135,42.0282,0.84769,0.25602,0.14474,38.88836,40.09777,39.5577,1.03093,2.94811,2.77674,8.26328,9.51924,8.90031,2.06661,5.26648,1.53262,1.60303,3.12572,2.38687,40.28999,32.03627,36.08021,1.04433,1.62309,1.34192,2.94646,2.57896,2.76242,49.19427,44.94866,47.04813,0.68216,0.30476,0.63698,0.14656,0.51075,0.4155,0.46203,28.64093,31.76935,30.21708,7.43394,21.63297,14.57672,0.5853,1.66651,1.15697,3.15616,5.36824,4.30337,5.89727,9.27129,7.61995,3.72949,2.65105,3.17632,3.19657,36.76773,32.69608,34.68919,61.88214,46.06227,53.88907,0.0,0.0,0.0,38.24275,40.69245,39.49258,3.19793,2.77284,2.97966,0.4637,0.50094,0.2721,13.41546,16.66883,15.12684,13.53151,18.97771,16.33552,2.78486,0.75616,1.74555,0.63279,0.01179,2.6382,2.2631,2.44502,27.86257,27.83603,27.84917,0.01898,3.8316,8.5292,6.27645,0.83754,0.19185,0.50845,30.52555,30.46225,30.49338,1.46978,1.99778,1.74196,11.45756,17.61189,14.52918,25.67108,17.02007,21.28734,6.55308,1.42672,2.60459,0.14682,3.60726,1.34392,2.44894,28.99433,31.06049,30.03208,18.13865,18.98974,18.56497,9.56901,12.81806,11.24042,14.79679,2.73029,8.62392,56.25222,49.39055,52.77266,1.20306,1.93618,1.53085,25.81072,29.93025,27.91451,25.47205,30.77602,28.16043,2.09903,4.66102,3.40433,6.44447,8.8073,7.64868,10.27919,15.10188,12.7594,7.2982,7.78882,7.54602,6.21841,5.95755,6.08159,7.33867,8.51725,5.87188,7.16013,40.98358,34.96673,37.98249,19.81454,22.10723,20.96568,0.49105,2.68947,1.29893,3.50467,12.32558,7.92541,3.16434,7.43954,5.33436,2.27174,3.25716,2.77793,0.02619,0.17013,0.10006,69.05776,60.96838,64.94287,1.25415,0.36675,0.42004,2.91625,2.40822,2.65875,15.93291,11.60816,12.72752,12.17886,31.64995,23.64777,27.52129,3.33291,3.45729,1.76867,6.80489,11.81499,9.3812,4.32734,2.29473,3.28863,0.36214,0.32218,0.13812,9.78079,4.12435,6.97839,4.9438,4.80031,4.8695,0.81175,11.50418,10.88256,11.1849,1.49978,2.24764,0.23829,2.00141,5.54502,3.76629,9.52108,8.71031,9.11155,0.03893,5.80456,3.0051,2.12679,8.25688,8.58209,8.41813,6.79693,12.32539,9.58734,2.54311,0.36638,1.62103,56.66851,63.61872,60.1813,2.62506,2.94631,2.7902,6.55124,8.85561,2.92379,49.16676,48.89217,49.02927,0.19148,0.41017,0.30335,4.76226,4.47003,4.61258,0.6801,1.50417,1.10456,9.92305,10.71886,10.32395,63.04881,48.96967,55.93645,1.37094,1.2147,0.36336,0.11397,0.14894,0.1315,0.90332,5.12671,3.05891,35.49242,33.2242,34.34396,11.06859,18.63275,14.99116,0.15907,1.04961,0.19951,0.61493,8.57255,11.83839,10.22936,27.6552,15.27625,21.44502,4.24553,16.88249,10.88344,15.311,8.7256,11.95079,35.98326,30.57199,33.19797,3.99705,3.00352,3.48943,48.99008,48.52191,48.75536,3.2292,4.03877,3.64492,2.82278,1.73023,0.71596,1.88953,1.75478,0.16207,63.89039,65.78001,71.75247,0.16817,1.30543,0.83821,2.40017,0.07663,1.21014,23.59121,26.55475,25.13063,13.20588,14.9115,14.0777,34.47587,22.63386,28.44315,21.87541],\"type\":\"choropleth\"}],                        {\"template\":{\"data\":{\"histogram2dcontour\":[{\"type\":\"histogram2dcontour\",\"colorbar\":{\"outlinewidth\":0,\"ticks\":\"\"},\"colorscale\":[[0.0,\"#0d0887\"],[0.1111111111111111,\"#46039f\"],[0.2222222222222222,\"#7201a8\"],[0.3333333333333333,\"#9c179e\"],[0.4444444444444444,\"#bd3786\"],[0.5555555555555556,\"#d8576b\"],[0.6666666666666666,\"#ed7953\"],[0.7777777777777778,\"#fb9f3a\"],[0.8888888888888888,\"#fdca26\"],[1.0,\"#f0f921\"]]}],\"choropleth\":[{\"type\":\"choropleth\",\"colorbar\":{\"outlinewidth\":0,\"ticks\":\"\"}}],\"histogram2d\":[{\"type\":\"histogram2d\",\"colorbar\":{\"outlinewidth\":0,\"ticks\":\"\"},\"colorscale\":[[0.0,\"#0d0887\"],[0.1111111111111111,\"#46039f\"],[0.2222222222222222,\"#7201a8\"],[0.3333333333333333,\"#9c179e\"],[0.4444444444444444,\"#bd3786\"],[0.5555555555555556,\"#d8576b\"],[0.6666666666666666,\"#ed7953\"],[0.7777777777777778,\"#fb9f3a\"],[0.8888888888888888,\"#fdca26\"],[1.0,\"#f0f921\"]]}],\"heatmap\":[{\"type\":\"heatmap\",\"colorbar\":{\"outlinewidth\":0,\"ticks\":\"\"},\"colorscale\":[[0.0,\"#0d0887\"],[0.1111111111111111,\"#46039f\"],[0.2222222222222222,\"#7201a8\"],[0.3333333333333333,\"#9c179e\"],[0.4444444444444444,\"#bd3786\"],[0.5555555555555556,\"#d8576b\"],[0.6666666666666666,\"#ed7953\"],[0.7777777777777778,\"#fb9f3a\"],[0.8888888888888888,\"#fdca26\"],[1.0,\"#f0f921\"]]}],\"heatmapgl\":[{\"type\":\"heatmapgl\",\"colorbar\":{\"outlinewidth\":0,\"ticks\":\"\"},\"colorscale\":[[0.0,\"#0d0887\"],[0.1111111111111111,\"#46039f\"],[0.2222222222222222,\"#7201a8\"],[0.3333333333333333,\"#9c179e\"],[0.4444444444444444,\"#bd3786\"],[0.5555555555555556,\"#d8576b\"],[0.6666666666666666,\"#ed7953\"],[0.7777777777777778,\"#fb9f3a\"],[0.8888888888888888,\"#fdca26\"],[1.0,\"#f0f921\"]]}],\"contourcarpet\":[{\"type\":\"contourcarpet\",\"colorbar\":{\"outlinewidth\":0,\"ticks\":\"\"}}],\"contour\":[{\"type\":\"contour\",\"colorbar\":{\"outlinewidth\":0,\"ticks\":\"\"},\"colorscale\":[[0.0,\"#0d0887\"],[0.1111111111111111,\"#46039f\"],[0.2222222222222222,\"#7201a8\"],[0.3333333333333333,\"#9c179e\"],[0.4444444444444444,\"#bd3786\"],[0.5555555555555556,\"#d8576b\"],[0.6666666666666666,\"#ed7953\"],[0.7777777777777778,\"#fb9f3a\"],[0.8888888888888888,\"#fdca26\"],[1.0,\"#f0f921\"]]}],\"surface\":[{\"type\":\"surface\",\"colorbar\":{\"outlinewidth\":0,\"ticks\":\"\"},\"colorscale\":[[0.0,\"#0d0887\"],[0.1111111111111111,\"#46039f\"],[0.2222222222222222,\"#7201a8\"],[0.3333333333333333,\"#9c179e\"],[0.4444444444444444,\"#bd3786\"],[0.5555555555555556,\"#d8576b\"],[0.6666666666666666,\"#ed7953\"],[0.7777777777777778,\"#fb9f3a\"],[0.8888888888888888,\"#fdca26\"],[1.0,\"#f0f921\"]]}],\"mesh3d\":[{\"type\":\"mesh3d\",\"colorbar\":{\"outlinewidth\":0,\"ticks\":\"\"}}],\"scatter\":[{\"fillpattern\":{\"fillmode\":\"overlay\",\"size\":10,\"solidity\":0.2},\"type\":\"scatter\"}],\"parcoords\":[{\"type\":\"parcoords\",\"line\":{\"colorbar\":{\"outlinewidth\":0,\"ticks\":\"\"}}}],\"scatterpolargl\":[{\"type\":\"scatterpolargl\",\"marker\":{\"colorbar\":{\"outlinewidth\":0,\"ticks\":\"\"}}}],\"bar\":[{\"error_x\":{\"color\":\"#2a3f5f\"},\"error_y\":{\"color\":\"#2a3f5f\"},\"marker\":{\"line\":{\"color\":\"#E5ECF6\",\"width\":0.5},\"pattern\":{\"fillmode\":\"overlay\",\"size\":10,\"solidity\":0.2}},\"type\":\"bar\"}],\"scattergeo\":[{\"type\":\"scattergeo\",\"marker\":{\"colorbar\":{\"outlinewidth\":0,\"ticks\":\"\"}}}],\"scatterpolar\":[{\"type\":\"scatterpolar\",\"marker\":{\"colorbar\":{\"outlinewidth\":0,\"ticks\":\"\"}}}],\"histogram\":[{\"marker\":{\"pattern\":{\"fillmode\":\"overlay\",\"size\":10,\"solidity\":0.2}},\"type\":\"histogram\"}],\"scattergl\":[{\"type\":\"scattergl\",\"marker\":{\"colorbar\":{\"outlinewidth\":0,\"ticks\":\"\"}}}],\"scatter3d\":[{\"type\":\"scatter3d\",\"line\":{\"colorbar\":{\"outlinewidth\":0,\"ticks\":\"\"}},\"marker\":{\"colorbar\":{\"outlinewidth\":0,\"ticks\":\"\"}}}],\"scattermapbox\":[{\"type\":\"scattermapbox\",\"marker\":{\"colorbar\":{\"outlinewidth\":0,\"ticks\":\"\"}}}],\"scatterternary\":[{\"type\":\"scatterternary\",\"marker\":{\"colorbar\":{\"outlinewidth\":0,\"ticks\":\"\"}}}],\"scattercarpet\":[{\"type\":\"scattercarpet\",\"marker\":{\"colorbar\":{\"outlinewidth\":0,\"ticks\":\"\"}}}],\"carpet\":[{\"aaxis\":{\"endlinecolor\":\"#2a3f5f\",\"gridcolor\":\"white\",\"linecolor\":\"white\",\"minorgridcolor\":\"white\",\"startlinecolor\":\"#2a3f5f\"},\"baxis\":{\"endlinecolor\":\"#2a3f5f\",\"gridcolor\":\"white\",\"linecolor\":\"white\",\"minorgridcolor\":\"white\",\"startlinecolor\":\"#2a3f5f\"},\"type\":\"carpet\"}],\"table\":[{\"cells\":{\"fill\":{\"color\":\"#EBF0F8\"},\"line\":{\"color\":\"white\"}},\"header\":{\"fill\":{\"color\":\"#C8D4E3\"},\"line\":{\"color\":\"white\"}},\"type\":\"table\"}],\"barpolar\":[{\"marker\":{\"line\":{\"color\":\"#E5ECF6\",\"width\":0.5},\"pattern\":{\"fillmode\":\"overlay\",\"size\":10,\"solidity\":0.2}},\"type\":\"barpolar\"}],\"pie\":[{\"automargin\":true,\"type\":\"pie\"}]},\"layout\":{\"autotypenumbers\":\"strict\",\"colorway\":[\"#636efa\",\"#EF553B\",\"#00cc96\",\"#ab63fa\",\"#FFA15A\",\"#19d3f3\",\"#FF6692\",\"#B6E880\",\"#FF97FF\",\"#FECB52\"],\"font\":{\"color\":\"#2a3f5f\"},\"hovermode\":\"closest\",\"hoverlabel\":{\"align\":\"left\"},\"paper_bgcolor\":\"white\",\"plot_bgcolor\":\"#E5ECF6\",\"polar\":{\"bgcolor\":\"#E5ECF6\",\"angularaxis\":{\"gridcolor\":\"white\",\"linecolor\":\"white\",\"ticks\":\"\"},\"radialaxis\":{\"gridcolor\":\"white\",\"linecolor\":\"white\",\"ticks\":\"\"}},\"ternary\":{\"bgcolor\":\"#E5ECF6\",\"aaxis\":{\"gridcolor\":\"white\",\"linecolor\":\"white\",\"ticks\":\"\"},\"baxis\":{\"gridcolor\":\"white\",\"linecolor\":\"white\",\"ticks\":\"\"},\"caxis\":{\"gridcolor\":\"white\",\"linecolor\":\"white\",\"ticks\":\"\"}},\"coloraxis\":{\"colorbar\":{\"outlinewidth\":0,\"ticks\":\"\"}},\"colorscale\":{\"sequential\":[[0.0,\"#0d0887\"],[0.1111111111111111,\"#46039f\"],[0.2222222222222222,\"#7201a8\"],[0.3333333333333333,\"#9c179e\"],[0.4444444444444444,\"#bd3786\"],[0.5555555555555556,\"#d8576b\"],[0.6666666666666666,\"#ed7953\"],[0.7777777777777778,\"#fb9f3a\"],[0.8888888888888888,\"#fdca26\"],[1.0,\"#f0f921\"]],\"sequentialminus\":[[0.0,\"#0d0887\"],[0.1111111111111111,\"#46039f\"],[0.2222222222222222,\"#7201a8\"],[0.3333333333333333,\"#9c179e\"],[0.4444444444444444,\"#bd3786\"],[0.5555555555555556,\"#d8576b\"],[0.6666666666666666,\"#ed7953\"],[0.7777777777777778,\"#fb9f3a\"],[0.8888888888888888,\"#fdca26\"],[1.0,\"#f0f921\"]],\"diverging\":[[0,\"#8e0152\"],[0.1,\"#c51b7d\"],[0.2,\"#de77ae\"],[0.3,\"#f1b6da\"],[0.4,\"#fde0ef\"],[0.5,\"#f7f7f7\"],[0.6,\"#e6f5d0\"],[0.7,\"#b8e186\"],[0.8,\"#7fbc41\"],[0.9,\"#4d9221\"],[1,\"#276419\"]]},\"xaxis\":{\"gridcolor\":\"white\",\"linecolor\":\"white\",\"ticks\":\"\",\"title\":{\"standoff\":15},\"zerolinecolor\":\"white\",\"automargin\":true,\"zerolinewidth\":2},\"yaxis\":{\"gridcolor\":\"white\",\"linecolor\":\"white\",\"ticks\":\"\",\"title\":{\"standoff\":15},\"zerolinecolor\":\"white\",\"automargin\":true,\"zerolinewidth\":2},\"scene\":{\"xaxis\":{\"backgroundcolor\":\"#E5ECF6\",\"gridcolor\":\"white\",\"linecolor\":\"white\",\"showbackground\":true,\"ticks\":\"\",\"zerolinecolor\":\"white\",\"gridwidth\":2},\"yaxis\":{\"backgroundcolor\":\"#E5ECF6\",\"gridcolor\":\"white\",\"linecolor\":\"white\",\"showbackground\":true,\"ticks\":\"\",\"zerolinecolor\":\"white\",\"gridwidth\":2},\"zaxis\":{\"backgroundcolor\":\"#E5ECF6\",\"gridcolor\":\"white\",\"linecolor\":\"white\",\"showbackground\":true,\"ticks\":\"\",\"zerolinecolor\":\"white\",\"gridwidth\":2}},\"shapedefaults\":{\"line\":{\"color\":\"#2a3f5f\"}},\"annotationdefaults\":{\"arrowcolor\":\"#2a3f5f\",\"arrowhead\":0,\"arrowwidth\":1},\"geo\":{\"bgcolor\":\"white\",\"landcolor\":\"#E5ECF6\",\"subunitcolor\":\"white\",\"showland\":true,\"showlakes\":true,\"lakecolor\":\"white\"},\"title\":{\"x\":0.05},\"mapbox\":{\"style\":\"light\"}}},\"geo\":{\"domain\":{\"x\":[0.0,1.0],\"y\":[0.0,1.0]},\"projection\":{\"type\":\"natural earth\"},\"center\":{}},\"coloraxis\":{\"colorbar\":{\"title\":{\"text\":\"obs_value\"}},\"colorscale\":[[0.0,\"#0d0887\"],[0.1111111111111111,\"#46039f\"],[0.2222222222222222,\"#7201a8\"],[0.3333333333333333,\"#9c179e\"],[0.4444444444444444,\"#bd3786\"],[0.5555555555555556,\"#d8576b\"],[0.6666666666666666,\"#ed7953\"],[0.7777777777777778,\"#fb9f3a\"],[0.8888888888888888,\"#fdca26\"],[1.0,\"#f0f921\"]]},\"legend\":{\"tracegroupgap\":0},\"title\":{\"text\":\"GDP per Capita by Country\"}},                        {\"responsive\": true}                    ).then(function(){\n",
       "                            \n",
       "var gd = document.getElementById('53d5edd2-11af-43e1-b192-a75e7ea2ea03');\n",
       "var x = new MutationObserver(function (mutations, observer) {{\n",
       "        var display = window.getComputedStyle(gd).display;\n",
       "        if (!display || display === 'none') {{\n",
       "            console.log([gd, 'removed!']);\n",
       "            Plotly.purge(gd);\n",
       "            observer.disconnect();\n",
       "        }}\n",
       "}});\n",
       "\n",
       "// Listen for the removal of the full notebook cells\n",
       "var notebookContainer = gd.closest('#notebook-container');\n",
       "if (notebookContainer) {{\n",
       "    x.observe(notebookContainer, {childList: true});\n",
       "}}\n",
       "\n",
       "// Listen for the clearing of the current output cell\n",
       "var outputEl = gd.closest('.output');\n",
       "if (outputEl) {{\n",
       "    x.observe(outputEl, {childList: true});\n",
       "}}\n",
       "\n",
       "                        })                };                });            </script>        </div>"
      ]
     },
     "metadata": {},
     "output_type": "display_data"
    }
   ],
   "source": [
    "fig = px.choropleth(data, locations='alpha_3_code', color='obs_value', hover_name='country',\n",
    "                    projection='natural earth', title='GDP per Capita by Country')\n",
    "fig.show()"
   ]
  },
  {
   "cell_type": "markdown",
   "id": "3ca68adf",
   "metadata": {},
   "source": [
    "### <span style=\"font-family: Century; color: #703855;\">By examining the world map, we can identify the countries where data was collected and utilize highlighting tools to observe percentage of adolescents out of school across different countries and years. Notably, trends reveal higher levels of adolescents who are out of schools is in countries located in the central South African region.</span>"
   ]
  },
  {
   "cell_type": "markdown",
   "id": "e741e41d",
   "metadata": {},
   "source": [
    "##  <span style=\"font-family: Elephant; color: #000056;\">TREE MAP</span>"
   ]
  },
  {
   "cell_type": "code",
   "execution_count": 42,
   "id": "3d2ed685",
   "metadata": {
    "scrolled": false
   },
   "outputs": [
    {
     "data": {
      "application/vnd.plotly.v1+json": {
       "config": {
        "plotlyServerURL": "https://plot.ly"
       },
       "data": [
        {
         "branchvalues": "total",
         "customdata": [
          [
           2881.6164348522425
          ],
          [
           14229.428132138395
          ],
          [
           18018.718651963693
          ],
          [
           31502.996497892556
          ],
          [
           12120.264811317338
          ],
          [
           9127.296455093714
          ]
         ],
         "domain": {
          "x": [
           0,
           1
          ],
          "y": [
           0,
           1
          ]
         },
         "hovertemplate": "labels=%{label}<br>total_gdp_sum=%{value}<br>parent=%{parent}<br>id=%{id}<br>total_gdp=%{color}<extra></extra>",
         "ids": [
          "Africa",
          "Asia",
          "Australia",
          "Europe",
          "North America",
          "South America"
         ],
         "labels": [
          "Africa",
          "Asia",
          "Australia",
          "Europe",
          "North America",
          "South America"
         ],
         "marker": {
          "coloraxis": "coloraxis",
          "colors": [
           2881.6164348522425,
           14229.428132138395,
           18018.718651963693,
           31502.996497892556,
           12120.264811317338,
           9127.296455093714
          ]
         },
         "name": "",
         "parents": [
          "",
          "",
          "",
          "",
          "",
          ""
         ],
         "type": "treemap",
         "values": [
          2881.6164348522425,
          14229.428132138395,
          18018.718651963693,
          31502.996497892556,
          12120.264811317338,
          9127.296455093714
         ]
        }
       ],
       "layout": {
        "coloraxis": {
         "colorbar": {
          "title": {
           "text": "total_gdp"
          }
         },
         "colorscale": [
          [
           0,
           "rgb(249, 221, 218)"
          ],
          [
           0.16666666666666666,
           "rgb(242, 185, 196)"
          ],
          [
           0.3333333333333333,
           "rgb(229, 151, 185)"
          ],
          [
           0.5,
           "rgb(206, 120, 179)"
          ],
          [
           0.6666666666666666,
           "rgb(173, 95, 173)"
          ],
          [
           0.8333333333333334,
           "rgb(131, 75, 160)"
          ],
          [
           1,
           "rgb(87, 59, 136)"
          ]
         ]
        },
        "legend": {
         "tracegroupgap": 0
        },
        "margin": {
         "t": 60
        },
        "template": {
         "data": {
          "bar": [
           {
            "error_x": {
             "color": "#2a3f5f"
            },
            "error_y": {
             "color": "#2a3f5f"
            },
            "marker": {
             "line": {
              "color": "#E5ECF6",
              "width": 0.5
             },
             "pattern": {
              "fillmode": "overlay",
              "size": 10,
              "solidity": 0.2
             }
            },
            "type": "bar"
           }
          ],
          "barpolar": [
           {
            "marker": {
             "line": {
              "color": "#E5ECF6",
              "width": 0.5
             },
             "pattern": {
              "fillmode": "overlay",
              "size": 10,
              "solidity": 0.2
             }
            },
            "type": "barpolar"
           }
          ],
          "carpet": [
           {
            "aaxis": {
             "endlinecolor": "#2a3f5f",
             "gridcolor": "white",
             "linecolor": "white",
             "minorgridcolor": "white",
             "startlinecolor": "#2a3f5f"
            },
            "baxis": {
             "endlinecolor": "#2a3f5f",
             "gridcolor": "white",
             "linecolor": "white",
             "minorgridcolor": "white",
             "startlinecolor": "#2a3f5f"
            },
            "type": "carpet"
           }
          ],
          "choropleth": [
           {
            "colorbar": {
             "outlinewidth": 0,
             "ticks": ""
            },
            "type": "choropleth"
           }
          ],
          "contour": [
           {
            "colorbar": {
             "outlinewidth": 0,
             "ticks": ""
            },
            "colorscale": [
             [
              0,
              "#0d0887"
             ],
             [
              0.1111111111111111,
              "#46039f"
             ],
             [
              0.2222222222222222,
              "#7201a8"
             ],
             [
              0.3333333333333333,
              "#9c179e"
             ],
             [
              0.4444444444444444,
              "#bd3786"
             ],
             [
              0.5555555555555556,
              "#d8576b"
             ],
             [
              0.6666666666666666,
              "#ed7953"
             ],
             [
              0.7777777777777778,
              "#fb9f3a"
             ],
             [
              0.8888888888888888,
              "#fdca26"
             ],
             [
              1,
              "#f0f921"
             ]
            ],
            "type": "contour"
           }
          ],
          "contourcarpet": [
           {
            "colorbar": {
             "outlinewidth": 0,
             "ticks": ""
            },
            "type": "contourcarpet"
           }
          ],
          "heatmap": [
           {
            "colorbar": {
             "outlinewidth": 0,
             "ticks": ""
            },
            "colorscale": [
             [
              0,
              "#0d0887"
             ],
             [
              0.1111111111111111,
              "#46039f"
             ],
             [
              0.2222222222222222,
              "#7201a8"
             ],
             [
              0.3333333333333333,
              "#9c179e"
             ],
             [
              0.4444444444444444,
              "#bd3786"
             ],
             [
              0.5555555555555556,
              "#d8576b"
             ],
             [
              0.6666666666666666,
              "#ed7953"
             ],
             [
              0.7777777777777778,
              "#fb9f3a"
             ],
             [
              0.8888888888888888,
              "#fdca26"
             ],
             [
              1,
              "#f0f921"
             ]
            ],
            "type": "heatmap"
           }
          ],
          "heatmapgl": [
           {
            "colorbar": {
             "outlinewidth": 0,
             "ticks": ""
            },
            "colorscale": [
             [
              0,
              "#0d0887"
             ],
             [
              0.1111111111111111,
              "#46039f"
             ],
             [
              0.2222222222222222,
              "#7201a8"
             ],
             [
              0.3333333333333333,
              "#9c179e"
             ],
             [
              0.4444444444444444,
              "#bd3786"
             ],
             [
              0.5555555555555556,
              "#d8576b"
             ],
             [
              0.6666666666666666,
              "#ed7953"
             ],
             [
              0.7777777777777778,
              "#fb9f3a"
             ],
             [
              0.8888888888888888,
              "#fdca26"
             ],
             [
              1,
              "#f0f921"
             ]
            ],
            "type": "heatmapgl"
           }
          ],
          "histogram": [
           {
            "marker": {
             "pattern": {
              "fillmode": "overlay",
              "size": 10,
              "solidity": 0.2
             }
            },
            "type": "histogram"
           }
          ],
          "histogram2d": [
           {
            "colorbar": {
             "outlinewidth": 0,
             "ticks": ""
            },
            "colorscale": [
             [
              0,
              "#0d0887"
             ],
             [
              0.1111111111111111,
              "#46039f"
             ],
             [
              0.2222222222222222,
              "#7201a8"
             ],
             [
              0.3333333333333333,
              "#9c179e"
             ],
             [
              0.4444444444444444,
              "#bd3786"
             ],
             [
              0.5555555555555556,
              "#d8576b"
             ],
             [
              0.6666666666666666,
              "#ed7953"
             ],
             [
              0.7777777777777778,
              "#fb9f3a"
             ],
             [
              0.8888888888888888,
              "#fdca26"
             ],
             [
              1,
              "#f0f921"
             ]
            ],
            "type": "histogram2d"
           }
          ],
          "histogram2dcontour": [
           {
            "colorbar": {
             "outlinewidth": 0,
             "ticks": ""
            },
            "colorscale": [
             [
              0,
              "#0d0887"
             ],
             [
              0.1111111111111111,
              "#46039f"
             ],
             [
              0.2222222222222222,
              "#7201a8"
             ],
             [
              0.3333333333333333,
              "#9c179e"
             ],
             [
              0.4444444444444444,
              "#bd3786"
             ],
             [
              0.5555555555555556,
              "#d8576b"
             ],
             [
              0.6666666666666666,
              "#ed7953"
             ],
             [
              0.7777777777777778,
              "#fb9f3a"
             ],
             [
              0.8888888888888888,
              "#fdca26"
             ],
             [
              1,
              "#f0f921"
             ]
            ],
            "type": "histogram2dcontour"
           }
          ],
          "mesh3d": [
           {
            "colorbar": {
             "outlinewidth": 0,
             "ticks": ""
            },
            "type": "mesh3d"
           }
          ],
          "parcoords": [
           {
            "line": {
             "colorbar": {
              "outlinewidth": 0,
              "ticks": ""
             }
            },
            "type": "parcoords"
           }
          ],
          "pie": [
           {
            "automargin": true,
            "type": "pie"
           }
          ],
          "scatter": [
           {
            "fillpattern": {
             "fillmode": "overlay",
             "size": 10,
             "solidity": 0.2
            },
            "type": "scatter"
           }
          ],
          "scatter3d": [
           {
            "line": {
             "colorbar": {
              "outlinewidth": 0,
              "ticks": ""
             }
            },
            "marker": {
             "colorbar": {
              "outlinewidth": 0,
              "ticks": ""
             }
            },
            "type": "scatter3d"
           }
          ],
          "scattercarpet": [
           {
            "marker": {
             "colorbar": {
              "outlinewidth": 0,
              "ticks": ""
             }
            },
            "type": "scattercarpet"
           }
          ],
          "scattergeo": [
           {
            "marker": {
             "colorbar": {
              "outlinewidth": 0,
              "ticks": ""
             }
            },
            "type": "scattergeo"
           }
          ],
          "scattergl": [
           {
            "marker": {
             "colorbar": {
              "outlinewidth": 0,
              "ticks": ""
             }
            },
            "type": "scattergl"
           }
          ],
          "scattermapbox": [
           {
            "marker": {
             "colorbar": {
              "outlinewidth": 0,
              "ticks": ""
             }
            },
            "type": "scattermapbox"
           }
          ],
          "scatterpolar": [
           {
            "marker": {
             "colorbar": {
              "outlinewidth": 0,
              "ticks": ""
             }
            },
            "type": "scatterpolar"
           }
          ],
          "scatterpolargl": [
           {
            "marker": {
             "colorbar": {
              "outlinewidth": 0,
              "ticks": ""
             }
            },
            "type": "scatterpolargl"
           }
          ],
          "scatterternary": [
           {
            "marker": {
             "colorbar": {
              "outlinewidth": 0,
              "ticks": ""
             }
            },
            "type": "scatterternary"
           }
          ],
          "surface": [
           {
            "colorbar": {
             "outlinewidth": 0,
             "ticks": ""
            },
            "colorscale": [
             [
              0,
              "#0d0887"
             ],
             [
              0.1111111111111111,
              "#46039f"
             ],
             [
              0.2222222222222222,
              "#7201a8"
             ],
             [
              0.3333333333333333,
              "#9c179e"
             ],
             [
              0.4444444444444444,
              "#bd3786"
             ],
             [
              0.5555555555555556,
              "#d8576b"
             ],
             [
              0.6666666666666666,
              "#ed7953"
             ],
             [
              0.7777777777777778,
              "#fb9f3a"
             ],
             [
              0.8888888888888888,
              "#fdca26"
             ],
             [
              1,
              "#f0f921"
             ]
            ],
            "type": "surface"
           }
          ],
          "table": [
           {
            "cells": {
             "fill": {
              "color": "#EBF0F8"
             },
             "line": {
              "color": "white"
             }
            },
            "header": {
             "fill": {
              "color": "#C8D4E3"
             },
             "line": {
              "color": "white"
             }
            },
            "type": "table"
           }
          ]
         },
         "layout": {
          "annotationdefaults": {
           "arrowcolor": "#2a3f5f",
           "arrowhead": 0,
           "arrowwidth": 1
          },
          "autotypenumbers": "strict",
          "coloraxis": {
           "colorbar": {
            "outlinewidth": 0,
            "ticks": ""
           }
          },
          "colorscale": {
           "diverging": [
            [
             0,
             "#8e0152"
            ],
            [
             0.1,
             "#c51b7d"
            ],
            [
             0.2,
             "#de77ae"
            ],
            [
             0.3,
             "#f1b6da"
            ],
            [
             0.4,
             "#fde0ef"
            ],
            [
             0.5,
             "#f7f7f7"
            ],
            [
             0.6,
             "#e6f5d0"
            ],
            [
             0.7,
             "#b8e186"
            ],
            [
             0.8,
             "#7fbc41"
            ],
            [
             0.9,
             "#4d9221"
            ],
            [
             1,
             "#276419"
            ]
           ],
           "sequential": [
            [
             0,
             "#0d0887"
            ],
            [
             0.1111111111111111,
             "#46039f"
            ],
            [
             0.2222222222222222,
             "#7201a8"
            ],
            [
             0.3333333333333333,
             "#9c179e"
            ],
            [
             0.4444444444444444,
             "#bd3786"
            ],
            [
             0.5555555555555556,
             "#d8576b"
            ],
            [
             0.6666666666666666,
             "#ed7953"
            ],
            [
             0.7777777777777778,
             "#fb9f3a"
            ],
            [
             0.8888888888888888,
             "#fdca26"
            ],
            [
             1,
             "#f0f921"
            ]
           ],
           "sequentialminus": [
            [
             0,
             "#0d0887"
            ],
            [
             0.1111111111111111,
             "#46039f"
            ],
            [
             0.2222222222222222,
             "#7201a8"
            ],
            [
             0.3333333333333333,
             "#9c179e"
            ],
            [
             0.4444444444444444,
             "#bd3786"
            ],
            [
             0.5555555555555556,
             "#d8576b"
            ],
            [
             0.6666666666666666,
             "#ed7953"
            ],
            [
             0.7777777777777778,
             "#fb9f3a"
            ],
            [
             0.8888888888888888,
             "#fdca26"
            ],
            [
             1,
             "#f0f921"
            ]
           ]
          },
          "colorway": [
           "#636efa",
           "#EF553B",
           "#00cc96",
           "#ab63fa",
           "#FFA15A",
           "#19d3f3",
           "#FF6692",
           "#B6E880",
           "#FF97FF",
           "#FECB52"
          ],
          "font": {
           "color": "#2a3f5f"
          },
          "geo": {
           "bgcolor": "white",
           "lakecolor": "white",
           "landcolor": "#E5ECF6",
           "showlakes": true,
           "showland": true,
           "subunitcolor": "white"
          },
          "hoverlabel": {
           "align": "left"
          },
          "hovermode": "closest",
          "mapbox": {
           "style": "light"
          },
          "paper_bgcolor": "white",
          "plot_bgcolor": "#E5ECF6",
          "polar": {
           "angularaxis": {
            "gridcolor": "white",
            "linecolor": "white",
            "ticks": ""
           },
           "bgcolor": "#E5ECF6",
           "radialaxis": {
            "gridcolor": "white",
            "linecolor": "white",
            "ticks": ""
           }
          },
          "scene": {
           "xaxis": {
            "backgroundcolor": "#E5ECF6",
            "gridcolor": "white",
            "gridwidth": 2,
            "linecolor": "white",
            "showbackground": true,
            "ticks": "",
            "zerolinecolor": "white"
           },
           "yaxis": {
            "backgroundcolor": "#E5ECF6",
            "gridcolor": "white",
            "gridwidth": 2,
            "linecolor": "white",
            "showbackground": true,
            "ticks": "",
            "zerolinecolor": "white"
           },
           "zaxis": {
            "backgroundcolor": "#E5ECF6",
            "gridcolor": "white",
            "gridwidth": 2,
            "linecolor": "white",
            "showbackground": true,
            "ticks": "",
            "zerolinecolor": "white"
           }
          },
          "shapedefaults": {
           "line": {
            "color": "#2a3f5f"
           }
          },
          "ternary": {
           "aaxis": {
            "gridcolor": "white",
            "linecolor": "white",
            "ticks": ""
           },
           "baxis": {
            "gridcolor": "white",
            "linecolor": "white",
            "ticks": ""
           },
           "bgcolor": "#E5ECF6",
           "caxis": {
            "gridcolor": "white",
            "linecolor": "white",
            "ticks": ""
           }
          },
          "title": {
           "x": 0.05
          },
          "xaxis": {
           "automargin": true,
           "gridcolor": "white",
           "linecolor": "white",
           "ticks": "",
           "title": {
            "standoff": 15
           },
           "zerolinecolor": "white",
           "zerolinewidth": 2
          },
          "yaxis": {
           "automargin": true,
           "gridcolor": "white",
           "linecolor": "white",
           "ticks": "",
           "title": {
            "standoff": 15
           },
           "zerolinecolor": "white",
           "zerolinewidth": 2
          }
         }
        },
        "title": {
         "text": "Continent wise distribution of GDP per Capita"
        }
       }
      },
      "text/html": [
       "<div>                            <div id=\"d391a33c-197b-46aa-9c36-58f38fe212fb\" class=\"plotly-graph-div\" style=\"height:525px; width:100%;\"></div>            <script type=\"text/javascript\">                require([\"plotly\"], function(Plotly) {                    window.PLOTLYENV=window.PLOTLYENV || {};                                    if (document.getElementById(\"d391a33c-197b-46aa-9c36-58f38fe212fb\")) {                    Plotly.newPlot(                        \"d391a33c-197b-46aa-9c36-58f38fe212fb\",                        [{\"branchvalues\":\"total\",\"customdata\":[[2881.6164348522425],[14229.428132138395],[18018.718651963693],[31502.996497892556],[12120.264811317338],[9127.296455093714]],\"domain\":{\"x\":[0.0,1.0],\"y\":[0.0,1.0]},\"hovertemplate\":\"labels=%{label}<br>total_gdp_sum=%{value}<br>parent=%{parent}<br>id=%{id}<br>total_gdp=%{color}<extra></extra>\",\"ids\":[\"Africa\",\"Asia\",\"Australia\",\"Europe\",\"North America\",\"South America\"],\"labels\":[\"Africa\",\"Asia\",\"Australia\",\"Europe\",\"North America\",\"South America\"],\"marker\":{\"coloraxis\":\"coloraxis\",\"colors\":[2881.6164348522425,14229.428132138395,18018.718651963693,31502.996497892556,12120.264811317338,9127.296455093714]},\"name\":\"\",\"parents\":[\"\",\"\",\"\",\"\",\"\",\"\"],\"values\":[2881.6164348522425,14229.428132138395,18018.718651963693,31502.996497892556,12120.264811317338,9127.296455093714],\"type\":\"treemap\"}],                        {\"template\":{\"data\":{\"histogram2dcontour\":[{\"type\":\"histogram2dcontour\",\"colorbar\":{\"outlinewidth\":0,\"ticks\":\"\"},\"colorscale\":[[0.0,\"#0d0887\"],[0.1111111111111111,\"#46039f\"],[0.2222222222222222,\"#7201a8\"],[0.3333333333333333,\"#9c179e\"],[0.4444444444444444,\"#bd3786\"],[0.5555555555555556,\"#d8576b\"],[0.6666666666666666,\"#ed7953\"],[0.7777777777777778,\"#fb9f3a\"],[0.8888888888888888,\"#fdca26\"],[1.0,\"#f0f921\"]]}],\"choropleth\":[{\"type\":\"choropleth\",\"colorbar\":{\"outlinewidth\":0,\"ticks\":\"\"}}],\"histogram2d\":[{\"type\":\"histogram2d\",\"colorbar\":{\"outlinewidth\":0,\"ticks\":\"\"},\"colorscale\":[[0.0,\"#0d0887\"],[0.1111111111111111,\"#46039f\"],[0.2222222222222222,\"#7201a8\"],[0.3333333333333333,\"#9c179e\"],[0.4444444444444444,\"#bd3786\"],[0.5555555555555556,\"#d8576b\"],[0.6666666666666666,\"#ed7953\"],[0.7777777777777778,\"#fb9f3a\"],[0.8888888888888888,\"#fdca26\"],[1.0,\"#f0f921\"]]}],\"heatmap\":[{\"type\":\"heatmap\",\"colorbar\":{\"outlinewidth\":0,\"ticks\":\"\"},\"colorscale\":[[0.0,\"#0d0887\"],[0.1111111111111111,\"#46039f\"],[0.2222222222222222,\"#7201a8\"],[0.3333333333333333,\"#9c179e\"],[0.4444444444444444,\"#bd3786\"],[0.5555555555555556,\"#d8576b\"],[0.6666666666666666,\"#ed7953\"],[0.7777777777777778,\"#fb9f3a\"],[0.8888888888888888,\"#fdca26\"],[1.0,\"#f0f921\"]]}],\"heatmapgl\":[{\"type\":\"heatmapgl\",\"colorbar\":{\"outlinewidth\":0,\"ticks\":\"\"},\"colorscale\":[[0.0,\"#0d0887\"],[0.1111111111111111,\"#46039f\"],[0.2222222222222222,\"#7201a8\"],[0.3333333333333333,\"#9c179e\"],[0.4444444444444444,\"#bd3786\"],[0.5555555555555556,\"#d8576b\"],[0.6666666666666666,\"#ed7953\"],[0.7777777777777778,\"#fb9f3a\"],[0.8888888888888888,\"#fdca26\"],[1.0,\"#f0f921\"]]}],\"contourcarpet\":[{\"type\":\"contourcarpet\",\"colorbar\":{\"outlinewidth\":0,\"ticks\":\"\"}}],\"contour\":[{\"type\":\"contour\",\"colorbar\":{\"outlinewidth\":0,\"ticks\":\"\"},\"colorscale\":[[0.0,\"#0d0887\"],[0.1111111111111111,\"#46039f\"],[0.2222222222222222,\"#7201a8\"],[0.3333333333333333,\"#9c179e\"],[0.4444444444444444,\"#bd3786\"],[0.5555555555555556,\"#d8576b\"],[0.6666666666666666,\"#ed7953\"],[0.7777777777777778,\"#fb9f3a\"],[0.8888888888888888,\"#fdca26\"],[1.0,\"#f0f921\"]]}],\"surface\":[{\"type\":\"surface\",\"colorbar\":{\"outlinewidth\":0,\"ticks\":\"\"},\"colorscale\":[[0.0,\"#0d0887\"],[0.1111111111111111,\"#46039f\"],[0.2222222222222222,\"#7201a8\"],[0.3333333333333333,\"#9c179e\"],[0.4444444444444444,\"#bd3786\"],[0.5555555555555556,\"#d8576b\"],[0.6666666666666666,\"#ed7953\"],[0.7777777777777778,\"#fb9f3a\"],[0.8888888888888888,\"#fdca26\"],[1.0,\"#f0f921\"]]}],\"mesh3d\":[{\"type\":\"mesh3d\",\"colorbar\":{\"outlinewidth\":0,\"ticks\":\"\"}}],\"scatter\":[{\"fillpattern\":{\"fillmode\":\"overlay\",\"size\":10,\"solidity\":0.2},\"type\":\"scatter\"}],\"parcoords\":[{\"type\":\"parcoords\",\"line\":{\"colorbar\":{\"outlinewidth\":0,\"ticks\":\"\"}}}],\"scatterpolargl\":[{\"type\":\"scatterpolargl\",\"marker\":{\"colorbar\":{\"outlinewidth\":0,\"ticks\":\"\"}}}],\"bar\":[{\"error_x\":{\"color\":\"#2a3f5f\"},\"error_y\":{\"color\":\"#2a3f5f\"},\"marker\":{\"line\":{\"color\":\"#E5ECF6\",\"width\":0.5},\"pattern\":{\"fillmode\":\"overlay\",\"size\":10,\"solidity\":0.2}},\"type\":\"bar\"}],\"scattergeo\":[{\"type\":\"scattergeo\",\"marker\":{\"colorbar\":{\"outlinewidth\":0,\"ticks\":\"\"}}}],\"scatterpolar\":[{\"type\":\"scatterpolar\",\"marker\":{\"colorbar\":{\"outlinewidth\":0,\"ticks\":\"\"}}}],\"histogram\":[{\"marker\":{\"pattern\":{\"fillmode\":\"overlay\",\"size\":10,\"solidity\":0.2}},\"type\":\"histogram\"}],\"scattergl\":[{\"type\":\"scattergl\",\"marker\":{\"colorbar\":{\"outlinewidth\":0,\"ticks\":\"\"}}}],\"scatter3d\":[{\"type\":\"scatter3d\",\"line\":{\"colorbar\":{\"outlinewidth\":0,\"ticks\":\"\"}},\"marker\":{\"colorbar\":{\"outlinewidth\":0,\"ticks\":\"\"}}}],\"scattermapbox\":[{\"type\":\"scattermapbox\",\"marker\":{\"colorbar\":{\"outlinewidth\":0,\"ticks\":\"\"}}}],\"scatterternary\":[{\"type\":\"scatterternary\",\"marker\":{\"colorbar\":{\"outlinewidth\":0,\"ticks\":\"\"}}}],\"scattercarpet\":[{\"type\":\"scattercarpet\",\"marker\":{\"colorbar\":{\"outlinewidth\":0,\"ticks\":\"\"}}}],\"carpet\":[{\"aaxis\":{\"endlinecolor\":\"#2a3f5f\",\"gridcolor\":\"white\",\"linecolor\":\"white\",\"minorgridcolor\":\"white\",\"startlinecolor\":\"#2a3f5f\"},\"baxis\":{\"endlinecolor\":\"#2a3f5f\",\"gridcolor\":\"white\",\"linecolor\":\"white\",\"minorgridcolor\":\"white\",\"startlinecolor\":\"#2a3f5f\"},\"type\":\"carpet\"}],\"table\":[{\"cells\":{\"fill\":{\"color\":\"#EBF0F8\"},\"line\":{\"color\":\"white\"}},\"header\":{\"fill\":{\"color\":\"#C8D4E3\"},\"line\":{\"color\":\"white\"}},\"type\":\"table\"}],\"barpolar\":[{\"marker\":{\"line\":{\"color\":\"#E5ECF6\",\"width\":0.5},\"pattern\":{\"fillmode\":\"overlay\",\"size\":10,\"solidity\":0.2}},\"type\":\"barpolar\"}],\"pie\":[{\"automargin\":true,\"type\":\"pie\"}]},\"layout\":{\"autotypenumbers\":\"strict\",\"colorway\":[\"#636efa\",\"#EF553B\",\"#00cc96\",\"#ab63fa\",\"#FFA15A\",\"#19d3f3\",\"#FF6692\",\"#B6E880\",\"#FF97FF\",\"#FECB52\"],\"font\":{\"color\":\"#2a3f5f\"},\"hovermode\":\"closest\",\"hoverlabel\":{\"align\":\"left\"},\"paper_bgcolor\":\"white\",\"plot_bgcolor\":\"#E5ECF6\",\"polar\":{\"bgcolor\":\"#E5ECF6\",\"angularaxis\":{\"gridcolor\":\"white\",\"linecolor\":\"white\",\"ticks\":\"\"},\"radialaxis\":{\"gridcolor\":\"white\",\"linecolor\":\"white\",\"ticks\":\"\"}},\"ternary\":{\"bgcolor\":\"#E5ECF6\",\"aaxis\":{\"gridcolor\":\"white\",\"linecolor\":\"white\",\"ticks\":\"\"},\"baxis\":{\"gridcolor\":\"white\",\"linecolor\":\"white\",\"ticks\":\"\"},\"caxis\":{\"gridcolor\":\"white\",\"linecolor\":\"white\",\"ticks\":\"\"}},\"coloraxis\":{\"colorbar\":{\"outlinewidth\":0,\"ticks\":\"\"}},\"colorscale\":{\"sequential\":[[0.0,\"#0d0887\"],[0.1111111111111111,\"#46039f\"],[0.2222222222222222,\"#7201a8\"],[0.3333333333333333,\"#9c179e\"],[0.4444444444444444,\"#bd3786\"],[0.5555555555555556,\"#d8576b\"],[0.6666666666666666,\"#ed7953\"],[0.7777777777777778,\"#fb9f3a\"],[0.8888888888888888,\"#fdca26\"],[1.0,\"#f0f921\"]],\"sequentialminus\":[[0.0,\"#0d0887\"],[0.1111111111111111,\"#46039f\"],[0.2222222222222222,\"#7201a8\"],[0.3333333333333333,\"#9c179e\"],[0.4444444444444444,\"#bd3786\"],[0.5555555555555556,\"#d8576b\"],[0.6666666666666666,\"#ed7953\"],[0.7777777777777778,\"#fb9f3a\"],[0.8888888888888888,\"#fdca26\"],[1.0,\"#f0f921\"]],\"diverging\":[[0,\"#8e0152\"],[0.1,\"#c51b7d\"],[0.2,\"#de77ae\"],[0.3,\"#f1b6da\"],[0.4,\"#fde0ef\"],[0.5,\"#f7f7f7\"],[0.6,\"#e6f5d0\"],[0.7,\"#b8e186\"],[0.8,\"#7fbc41\"],[0.9,\"#4d9221\"],[1,\"#276419\"]]},\"xaxis\":{\"gridcolor\":\"white\",\"linecolor\":\"white\",\"ticks\":\"\",\"title\":{\"standoff\":15},\"zerolinecolor\":\"white\",\"automargin\":true,\"zerolinewidth\":2},\"yaxis\":{\"gridcolor\":\"white\",\"linecolor\":\"white\",\"ticks\":\"\",\"title\":{\"standoff\":15},\"zerolinecolor\":\"white\",\"automargin\":true,\"zerolinewidth\":2},\"scene\":{\"xaxis\":{\"backgroundcolor\":\"#E5ECF6\",\"gridcolor\":\"white\",\"linecolor\":\"white\",\"showbackground\":true,\"ticks\":\"\",\"zerolinecolor\":\"white\",\"gridwidth\":2},\"yaxis\":{\"backgroundcolor\":\"#E5ECF6\",\"gridcolor\":\"white\",\"linecolor\":\"white\",\"showbackground\":true,\"ticks\":\"\",\"zerolinecolor\":\"white\",\"gridwidth\":2},\"zaxis\":{\"backgroundcolor\":\"#E5ECF6\",\"gridcolor\":\"white\",\"linecolor\":\"white\",\"showbackground\":true,\"ticks\":\"\",\"zerolinecolor\":\"white\",\"gridwidth\":2}},\"shapedefaults\":{\"line\":{\"color\":\"#2a3f5f\"}},\"annotationdefaults\":{\"arrowcolor\":\"#2a3f5f\",\"arrowhead\":0,\"arrowwidth\":1},\"geo\":{\"bgcolor\":\"white\",\"landcolor\":\"#E5ECF6\",\"subunitcolor\":\"white\",\"showland\":true,\"showlakes\":true,\"lakecolor\":\"white\"},\"title\":{\"x\":0.05},\"mapbox\":{\"style\":\"light\"}}},\"coloraxis\":{\"colorbar\":{\"title\":{\"text\":\"total_gdp\"}},\"colorscale\":[[0.0,\"rgb(249, 221, 218)\"],[0.16666666666666666,\"rgb(242, 185, 196)\"],[0.3333333333333333,\"rgb(229, 151, 185)\"],[0.5,\"rgb(206, 120, 179)\"],[0.6666666666666666,\"rgb(173, 95, 173)\"],[0.8333333333333334,\"rgb(131, 75, 160)\"],[1.0,\"rgb(87, 59, 136)\"]]},\"legend\":{\"tracegroupgap\":0},\"margin\":{\"t\":60},\"title\":{\"text\":\"Continent wise distribution of GDP per Capita\"}},                        {\"responsive\": true}                    ).then(function(){\n",
       "                            \n",
       "var gd = document.getElementById('d391a33c-197b-46aa-9c36-58f38fe212fb');\n",
       "var x = new MutationObserver(function (mutations, observer) {{\n",
       "        var display = window.getComputedStyle(gd).display;\n",
       "        if (!display || display === 'none') {{\n",
       "            console.log([gd, 'removed!']);\n",
       "            Plotly.purge(gd);\n",
       "            observer.disconnect();\n",
       "        }}\n",
       "}});\n",
       "\n",
       "// Listen for the removal of the full notebook cells\n",
       "var notebookContainer = gd.closest('#notebook-container');\n",
       "if (notebookContainer) {{\n",
       "    x.observe(notebookContainer, {childList: true});\n",
       "}}\n",
       "\n",
       "// Listen for the clearing of the current output cell\n",
       "var outputEl = gd.closest('.output');\n",
       "if (outputEl) {{\n",
       "    x.observe(outputEl, {childList: true});\n",
       "}}\n",
       "\n",
       "                        })                };                });            </script>        </div>"
      ]
     },
     "metadata": {},
     "output_type": "display_data"
    },
    {
     "data": {
      "application/vnd.plotly.v1+json": {
       "config": {
        "plotlyServerURL": "https://plot.ly"
       },
       "data": [
        {
         "branchvalues": "total",
         "customdata": [
          [
           30.78512954545454
          ],
          [
           9.893577307692308
          ],
          [
           10.889025555555556
          ],
          [
           2.212897027027027
          ],
          [
           10.007764615384616
          ],
          [
           5.288422
          ]
         ],
         "domain": {
          "x": [
           0,
           1
          ],
          "y": [
           0,
           1
          ]
         },
         "hovertemplate": "labels=%{label}<br>total_obs_value_sum=%{value}<br>parent=%{parent}<br>id=%{id}<br>total_obs_value=%{color}<extra></extra>",
         "ids": [
          "Africa",
          "Asia",
          "Australia",
          "Europe",
          "North America",
          "South America"
         ],
         "labels": [
          "Africa",
          "Asia",
          "Australia",
          "Europe",
          "North America",
          "South America"
         ],
         "marker": {
          "coloraxis": "coloraxis",
          "colors": [
           30.78512954545454,
           9.893577307692308,
           10.889025555555556,
           2.212897027027027,
           10.007764615384616,
           5.288422
          ]
         },
         "name": "",
         "parents": [
          "",
          "",
          "",
          "",
          "",
          ""
         ],
         "type": "treemap",
         "values": [
          30.78512954545454,
          9.893577307692308,
          10.889025555555556,
          2.212897027027027,
          10.007764615384616,
          5.288422
         ]
        }
       ],
       "layout": {
        "coloraxis": {
         "colorbar": {
          "title": {
           "text": "total_obs_value"
          }
         },
         "colorscale": [
          [
           0,
           "rgb(249, 221, 218)"
          ],
          [
           0.16666666666666666,
           "rgb(242, 185, 196)"
          ],
          [
           0.3333333333333333,
           "rgb(229, 151, 185)"
          ],
          [
           0.5,
           "rgb(206, 120, 179)"
          ],
          [
           0.6666666666666666,
           "rgb(173, 95, 173)"
          ],
          [
           0.8333333333333334,
           "rgb(131, 75, 160)"
          ],
          [
           1,
           "rgb(87, 59, 136)"
          ]
         ]
        },
        "legend": {
         "tracegroupgap": 0
        },
        "margin": {
         "t": 60
        },
        "template": {
         "data": {
          "bar": [
           {
            "error_x": {
             "color": "#2a3f5f"
            },
            "error_y": {
             "color": "#2a3f5f"
            },
            "marker": {
             "line": {
              "color": "#E5ECF6",
              "width": 0.5
             },
             "pattern": {
              "fillmode": "overlay",
              "size": 10,
              "solidity": 0.2
             }
            },
            "type": "bar"
           }
          ],
          "barpolar": [
           {
            "marker": {
             "line": {
              "color": "#E5ECF6",
              "width": 0.5
             },
             "pattern": {
              "fillmode": "overlay",
              "size": 10,
              "solidity": 0.2
             }
            },
            "type": "barpolar"
           }
          ],
          "carpet": [
           {
            "aaxis": {
             "endlinecolor": "#2a3f5f",
             "gridcolor": "white",
             "linecolor": "white",
             "minorgridcolor": "white",
             "startlinecolor": "#2a3f5f"
            },
            "baxis": {
             "endlinecolor": "#2a3f5f",
             "gridcolor": "white",
             "linecolor": "white",
             "minorgridcolor": "white",
             "startlinecolor": "#2a3f5f"
            },
            "type": "carpet"
           }
          ],
          "choropleth": [
           {
            "colorbar": {
             "outlinewidth": 0,
             "ticks": ""
            },
            "type": "choropleth"
           }
          ],
          "contour": [
           {
            "colorbar": {
             "outlinewidth": 0,
             "ticks": ""
            },
            "colorscale": [
             [
              0,
              "#0d0887"
             ],
             [
              0.1111111111111111,
              "#46039f"
             ],
             [
              0.2222222222222222,
              "#7201a8"
             ],
             [
              0.3333333333333333,
              "#9c179e"
             ],
             [
              0.4444444444444444,
              "#bd3786"
             ],
             [
              0.5555555555555556,
              "#d8576b"
             ],
             [
              0.6666666666666666,
              "#ed7953"
             ],
             [
              0.7777777777777778,
              "#fb9f3a"
             ],
             [
              0.8888888888888888,
              "#fdca26"
             ],
             [
              1,
              "#f0f921"
             ]
            ],
            "type": "contour"
           }
          ],
          "contourcarpet": [
           {
            "colorbar": {
             "outlinewidth": 0,
             "ticks": ""
            },
            "type": "contourcarpet"
           }
          ],
          "heatmap": [
           {
            "colorbar": {
             "outlinewidth": 0,
             "ticks": ""
            },
            "colorscale": [
             [
              0,
              "#0d0887"
             ],
             [
              0.1111111111111111,
              "#46039f"
             ],
             [
              0.2222222222222222,
              "#7201a8"
             ],
             [
              0.3333333333333333,
              "#9c179e"
             ],
             [
              0.4444444444444444,
              "#bd3786"
             ],
             [
              0.5555555555555556,
              "#d8576b"
             ],
             [
              0.6666666666666666,
              "#ed7953"
             ],
             [
              0.7777777777777778,
              "#fb9f3a"
             ],
             [
              0.8888888888888888,
              "#fdca26"
             ],
             [
              1,
              "#f0f921"
             ]
            ],
            "type": "heatmap"
           }
          ],
          "heatmapgl": [
           {
            "colorbar": {
             "outlinewidth": 0,
             "ticks": ""
            },
            "colorscale": [
             [
              0,
              "#0d0887"
             ],
             [
              0.1111111111111111,
              "#46039f"
             ],
             [
              0.2222222222222222,
              "#7201a8"
             ],
             [
              0.3333333333333333,
              "#9c179e"
             ],
             [
              0.4444444444444444,
              "#bd3786"
             ],
             [
              0.5555555555555556,
              "#d8576b"
             ],
             [
              0.6666666666666666,
              "#ed7953"
             ],
             [
              0.7777777777777778,
              "#fb9f3a"
             ],
             [
              0.8888888888888888,
              "#fdca26"
             ],
             [
              1,
              "#f0f921"
             ]
            ],
            "type": "heatmapgl"
           }
          ],
          "histogram": [
           {
            "marker": {
             "pattern": {
              "fillmode": "overlay",
              "size": 10,
              "solidity": 0.2
             }
            },
            "type": "histogram"
           }
          ],
          "histogram2d": [
           {
            "colorbar": {
             "outlinewidth": 0,
             "ticks": ""
            },
            "colorscale": [
             [
              0,
              "#0d0887"
             ],
             [
              0.1111111111111111,
              "#46039f"
             ],
             [
              0.2222222222222222,
              "#7201a8"
             ],
             [
              0.3333333333333333,
              "#9c179e"
             ],
             [
              0.4444444444444444,
              "#bd3786"
             ],
             [
              0.5555555555555556,
              "#d8576b"
             ],
             [
              0.6666666666666666,
              "#ed7953"
             ],
             [
              0.7777777777777778,
              "#fb9f3a"
             ],
             [
              0.8888888888888888,
              "#fdca26"
             ],
             [
              1,
              "#f0f921"
             ]
            ],
            "type": "histogram2d"
           }
          ],
          "histogram2dcontour": [
           {
            "colorbar": {
             "outlinewidth": 0,
             "ticks": ""
            },
            "colorscale": [
             [
              0,
              "#0d0887"
             ],
             [
              0.1111111111111111,
              "#46039f"
             ],
             [
              0.2222222222222222,
              "#7201a8"
             ],
             [
              0.3333333333333333,
              "#9c179e"
             ],
             [
              0.4444444444444444,
              "#bd3786"
             ],
             [
              0.5555555555555556,
              "#d8576b"
             ],
             [
              0.6666666666666666,
              "#ed7953"
             ],
             [
              0.7777777777777778,
              "#fb9f3a"
             ],
             [
              0.8888888888888888,
              "#fdca26"
             ],
             [
              1,
              "#f0f921"
             ]
            ],
            "type": "histogram2dcontour"
           }
          ],
          "mesh3d": [
           {
            "colorbar": {
             "outlinewidth": 0,
             "ticks": ""
            },
            "type": "mesh3d"
           }
          ],
          "parcoords": [
           {
            "line": {
             "colorbar": {
              "outlinewidth": 0,
              "ticks": ""
             }
            },
            "type": "parcoords"
           }
          ],
          "pie": [
           {
            "automargin": true,
            "type": "pie"
           }
          ],
          "scatter": [
           {
            "fillpattern": {
             "fillmode": "overlay",
             "size": 10,
             "solidity": 0.2
            },
            "type": "scatter"
           }
          ],
          "scatter3d": [
           {
            "line": {
             "colorbar": {
              "outlinewidth": 0,
              "ticks": ""
             }
            },
            "marker": {
             "colorbar": {
              "outlinewidth": 0,
              "ticks": ""
             }
            },
            "type": "scatter3d"
           }
          ],
          "scattercarpet": [
           {
            "marker": {
             "colorbar": {
              "outlinewidth": 0,
              "ticks": ""
             }
            },
            "type": "scattercarpet"
           }
          ],
          "scattergeo": [
           {
            "marker": {
             "colorbar": {
              "outlinewidth": 0,
              "ticks": ""
             }
            },
            "type": "scattergeo"
           }
          ],
          "scattergl": [
           {
            "marker": {
             "colorbar": {
              "outlinewidth": 0,
              "ticks": ""
             }
            },
            "type": "scattergl"
           }
          ],
          "scattermapbox": [
           {
            "marker": {
             "colorbar": {
              "outlinewidth": 0,
              "ticks": ""
             }
            },
            "type": "scattermapbox"
           }
          ],
          "scatterpolar": [
           {
            "marker": {
             "colorbar": {
              "outlinewidth": 0,
              "ticks": ""
             }
            },
            "type": "scatterpolar"
           }
          ],
          "scatterpolargl": [
           {
            "marker": {
             "colorbar": {
              "outlinewidth": 0,
              "ticks": ""
             }
            },
            "type": "scatterpolargl"
           }
          ],
          "scatterternary": [
           {
            "marker": {
             "colorbar": {
              "outlinewidth": 0,
              "ticks": ""
             }
            },
            "type": "scatterternary"
           }
          ],
          "surface": [
           {
            "colorbar": {
             "outlinewidth": 0,
             "ticks": ""
            },
            "colorscale": [
             [
              0,
              "#0d0887"
             ],
             [
              0.1111111111111111,
              "#46039f"
             ],
             [
              0.2222222222222222,
              "#7201a8"
             ],
             [
              0.3333333333333333,
              "#9c179e"
             ],
             [
              0.4444444444444444,
              "#bd3786"
             ],
             [
              0.5555555555555556,
              "#d8576b"
             ],
             [
              0.6666666666666666,
              "#ed7953"
             ],
             [
              0.7777777777777778,
              "#fb9f3a"
             ],
             [
              0.8888888888888888,
              "#fdca26"
             ],
             [
              1,
              "#f0f921"
             ]
            ],
            "type": "surface"
           }
          ],
          "table": [
           {
            "cells": {
             "fill": {
              "color": "#EBF0F8"
             },
             "line": {
              "color": "white"
             }
            },
            "header": {
             "fill": {
              "color": "#C8D4E3"
             },
             "line": {
              "color": "white"
             }
            },
            "type": "table"
           }
          ]
         },
         "layout": {
          "annotationdefaults": {
           "arrowcolor": "#2a3f5f",
           "arrowhead": 0,
           "arrowwidth": 1
          },
          "autotypenumbers": "strict",
          "coloraxis": {
           "colorbar": {
            "outlinewidth": 0,
            "ticks": ""
           }
          },
          "colorscale": {
           "diverging": [
            [
             0,
             "#8e0152"
            ],
            [
             0.1,
             "#c51b7d"
            ],
            [
             0.2,
             "#de77ae"
            ],
            [
             0.3,
             "#f1b6da"
            ],
            [
             0.4,
             "#fde0ef"
            ],
            [
             0.5,
             "#f7f7f7"
            ],
            [
             0.6,
             "#e6f5d0"
            ],
            [
             0.7,
             "#b8e186"
            ],
            [
             0.8,
             "#7fbc41"
            ],
            [
             0.9,
             "#4d9221"
            ],
            [
             1,
             "#276419"
            ]
           ],
           "sequential": [
            [
             0,
             "#0d0887"
            ],
            [
             0.1111111111111111,
             "#46039f"
            ],
            [
             0.2222222222222222,
             "#7201a8"
            ],
            [
             0.3333333333333333,
             "#9c179e"
            ],
            [
             0.4444444444444444,
             "#bd3786"
            ],
            [
             0.5555555555555556,
             "#d8576b"
            ],
            [
             0.6666666666666666,
             "#ed7953"
            ],
            [
             0.7777777777777778,
             "#fb9f3a"
            ],
            [
             0.8888888888888888,
             "#fdca26"
            ],
            [
             1,
             "#f0f921"
            ]
           ],
           "sequentialminus": [
            [
             0,
             "#0d0887"
            ],
            [
             0.1111111111111111,
             "#46039f"
            ],
            [
             0.2222222222222222,
             "#7201a8"
            ],
            [
             0.3333333333333333,
             "#9c179e"
            ],
            [
             0.4444444444444444,
             "#bd3786"
            ],
            [
             0.5555555555555556,
             "#d8576b"
            ],
            [
             0.6666666666666666,
             "#ed7953"
            ],
            [
             0.7777777777777778,
             "#fb9f3a"
            ],
            [
             0.8888888888888888,
             "#fdca26"
            ],
            [
             1,
             "#f0f921"
            ]
           ]
          },
          "colorway": [
           "#636efa",
           "#EF553B",
           "#00cc96",
           "#ab63fa",
           "#FFA15A",
           "#19d3f3",
           "#FF6692",
           "#B6E880",
           "#FF97FF",
           "#FECB52"
          ],
          "font": {
           "color": "#2a3f5f"
          },
          "geo": {
           "bgcolor": "white",
           "lakecolor": "white",
           "landcolor": "#E5ECF6",
           "showlakes": true,
           "showland": true,
           "subunitcolor": "white"
          },
          "hoverlabel": {
           "align": "left"
          },
          "hovermode": "closest",
          "mapbox": {
           "style": "light"
          },
          "paper_bgcolor": "white",
          "plot_bgcolor": "#E5ECF6",
          "polar": {
           "angularaxis": {
            "gridcolor": "white",
            "linecolor": "white",
            "ticks": ""
           },
           "bgcolor": "#E5ECF6",
           "radialaxis": {
            "gridcolor": "white",
            "linecolor": "white",
            "ticks": ""
           }
          },
          "scene": {
           "xaxis": {
            "backgroundcolor": "#E5ECF6",
            "gridcolor": "white",
            "gridwidth": 2,
            "linecolor": "white",
            "showbackground": true,
            "ticks": "",
            "zerolinecolor": "white"
           },
           "yaxis": {
            "backgroundcolor": "#E5ECF6",
            "gridcolor": "white",
            "gridwidth": 2,
            "linecolor": "white",
            "showbackground": true,
            "ticks": "",
            "zerolinecolor": "white"
           },
           "zaxis": {
            "backgroundcolor": "#E5ECF6",
            "gridcolor": "white",
            "gridwidth": 2,
            "linecolor": "white",
            "showbackground": true,
            "ticks": "",
            "zerolinecolor": "white"
           }
          },
          "shapedefaults": {
           "line": {
            "color": "#2a3f5f"
           }
          },
          "ternary": {
           "aaxis": {
            "gridcolor": "white",
            "linecolor": "white",
            "ticks": ""
           },
           "baxis": {
            "gridcolor": "white",
            "linecolor": "white",
            "ticks": ""
           },
           "bgcolor": "#E5ECF6",
           "caxis": {
            "gridcolor": "white",
            "linecolor": "white",
            "ticks": ""
           }
          },
          "title": {
           "x": 0.05
          },
          "xaxis": {
           "automargin": true,
           "gridcolor": "white",
           "linecolor": "white",
           "ticks": "",
           "title": {
            "standoff": 15
           },
           "zerolinecolor": "white",
           "zerolinewidth": 2
          },
          "yaxis": {
           "automargin": true,
           "gridcolor": "white",
           "linecolor": "white",
           "ticks": "",
           "title": {
            "standoff": 15
           },
           "zerolinecolor": "white",
           "zerolinewidth": 2
          }
         }
        },
        "title": {
         "text": "Continent wise distribution of out of school rate"
        }
       }
      },
      "text/html": [
       "<div>                            <div id=\"accb81d5-20b5-44c6-ba2b-a621c48f2fb7\" class=\"plotly-graph-div\" style=\"height:525px; width:100%;\"></div>            <script type=\"text/javascript\">                require([\"plotly\"], function(Plotly) {                    window.PLOTLYENV=window.PLOTLYENV || {};                                    if (document.getElementById(\"accb81d5-20b5-44c6-ba2b-a621c48f2fb7\")) {                    Plotly.newPlot(                        \"accb81d5-20b5-44c6-ba2b-a621c48f2fb7\",                        [{\"branchvalues\":\"total\",\"customdata\":[[30.78512954545454],[9.893577307692308],[10.889025555555556],[2.212897027027027],[10.007764615384616],[5.288422]],\"domain\":{\"x\":[0.0,1.0],\"y\":[0.0,1.0]},\"hovertemplate\":\"labels=%{label}<br>total_obs_value_sum=%{value}<br>parent=%{parent}<br>id=%{id}<br>total_obs_value=%{color}<extra></extra>\",\"ids\":[\"Africa\",\"Asia\",\"Australia\",\"Europe\",\"North America\",\"South America\"],\"labels\":[\"Africa\",\"Asia\",\"Australia\",\"Europe\",\"North America\",\"South America\"],\"marker\":{\"coloraxis\":\"coloraxis\",\"colors\":[30.78512954545454,9.893577307692308,10.889025555555556,2.212897027027027,10.007764615384616,5.288422]},\"name\":\"\",\"parents\":[\"\",\"\",\"\",\"\",\"\",\"\"],\"values\":[30.78512954545454,9.893577307692308,10.889025555555556,2.212897027027027,10.007764615384616,5.288422],\"type\":\"treemap\"}],                        {\"template\":{\"data\":{\"histogram2dcontour\":[{\"type\":\"histogram2dcontour\",\"colorbar\":{\"outlinewidth\":0,\"ticks\":\"\"},\"colorscale\":[[0.0,\"#0d0887\"],[0.1111111111111111,\"#46039f\"],[0.2222222222222222,\"#7201a8\"],[0.3333333333333333,\"#9c179e\"],[0.4444444444444444,\"#bd3786\"],[0.5555555555555556,\"#d8576b\"],[0.6666666666666666,\"#ed7953\"],[0.7777777777777778,\"#fb9f3a\"],[0.8888888888888888,\"#fdca26\"],[1.0,\"#f0f921\"]]}],\"choropleth\":[{\"type\":\"choropleth\",\"colorbar\":{\"outlinewidth\":0,\"ticks\":\"\"}}],\"histogram2d\":[{\"type\":\"histogram2d\",\"colorbar\":{\"outlinewidth\":0,\"ticks\":\"\"},\"colorscale\":[[0.0,\"#0d0887\"],[0.1111111111111111,\"#46039f\"],[0.2222222222222222,\"#7201a8\"],[0.3333333333333333,\"#9c179e\"],[0.4444444444444444,\"#bd3786\"],[0.5555555555555556,\"#d8576b\"],[0.6666666666666666,\"#ed7953\"],[0.7777777777777778,\"#fb9f3a\"],[0.8888888888888888,\"#fdca26\"],[1.0,\"#f0f921\"]]}],\"heatmap\":[{\"type\":\"heatmap\",\"colorbar\":{\"outlinewidth\":0,\"ticks\":\"\"},\"colorscale\":[[0.0,\"#0d0887\"],[0.1111111111111111,\"#46039f\"],[0.2222222222222222,\"#7201a8\"],[0.3333333333333333,\"#9c179e\"],[0.4444444444444444,\"#bd3786\"],[0.5555555555555556,\"#d8576b\"],[0.6666666666666666,\"#ed7953\"],[0.7777777777777778,\"#fb9f3a\"],[0.8888888888888888,\"#fdca26\"],[1.0,\"#f0f921\"]]}],\"heatmapgl\":[{\"type\":\"heatmapgl\",\"colorbar\":{\"outlinewidth\":0,\"ticks\":\"\"},\"colorscale\":[[0.0,\"#0d0887\"],[0.1111111111111111,\"#46039f\"],[0.2222222222222222,\"#7201a8\"],[0.3333333333333333,\"#9c179e\"],[0.4444444444444444,\"#bd3786\"],[0.5555555555555556,\"#d8576b\"],[0.6666666666666666,\"#ed7953\"],[0.7777777777777778,\"#fb9f3a\"],[0.8888888888888888,\"#fdca26\"],[1.0,\"#f0f921\"]]}],\"contourcarpet\":[{\"type\":\"contourcarpet\",\"colorbar\":{\"outlinewidth\":0,\"ticks\":\"\"}}],\"contour\":[{\"type\":\"contour\",\"colorbar\":{\"outlinewidth\":0,\"ticks\":\"\"},\"colorscale\":[[0.0,\"#0d0887\"],[0.1111111111111111,\"#46039f\"],[0.2222222222222222,\"#7201a8\"],[0.3333333333333333,\"#9c179e\"],[0.4444444444444444,\"#bd3786\"],[0.5555555555555556,\"#d8576b\"],[0.6666666666666666,\"#ed7953\"],[0.7777777777777778,\"#fb9f3a\"],[0.8888888888888888,\"#fdca26\"],[1.0,\"#f0f921\"]]}],\"surface\":[{\"type\":\"surface\",\"colorbar\":{\"outlinewidth\":0,\"ticks\":\"\"},\"colorscale\":[[0.0,\"#0d0887\"],[0.1111111111111111,\"#46039f\"],[0.2222222222222222,\"#7201a8\"],[0.3333333333333333,\"#9c179e\"],[0.4444444444444444,\"#bd3786\"],[0.5555555555555556,\"#d8576b\"],[0.6666666666666666,\"#ed7953\"],[0.7777777777777778,\"#fb9f3a\"],[0.8888888888888888,\"#fdca26\"],[1.0,\"#f0f921\"]]}],\"mesh3d\":[{\"type\":\"mesh3d\",\"colorbar\":{\"outlinewidth\":0,\"ticks\":\"\"}}],\"scatter\":[{\"fillpattern\":{\"fillmode\":\"overlay\",\"size\":10,\"solidity\":0.2},\"type\":\"scatter\"}],\"parcoords\":[{\"type\":\"parcoords\",\"line\":{\"colorbar\":{\"outlinewidth\":0,\"ticks\":\"\"}}}],\"scatterpolargl\":[{\"type\":\"scatterpolargl\",\"marker\":{\"colorbar\":{\"outlinewidth\":0,\"ticks\":\"\"}}}],\"bar\":[{\"error_x\":{\"color\":\"#2a3f5f\"},\"error_y\":{\"color\":\"#2a3f5f\"},\"marker\":{\"line\":{\"color\":\"#E5ECF6\",\"width\":0.5},\"pattern\":{\"fillmode\":\"overlay\",\"size\":10,\"solidity\":0.2}},\"type\":\"bar\"}],\"scattergeo\":[{\"type\":\"scattergeo\",\"marker\":{\"colorbar\":{\"outlinewidth\":0,\"ticks\":\"\"}}}],\"scatterpolar\":[{\"type\":\"scatterpolar\",\"marker\":{\"colorbar\":{\"outlinewidth\":0,\"ticks\":\"\"}}}],\"histogram\":[{\"marker\":{\"pattern\":{\"fillmode\":\"overlay\",\"size\":10,\"solidity\":0.2}},\"type\":\"histogram\"}],\"scattergl\":[{\"type\":\"scattergl\",\"marker\":{\"colorbar\":{\"outlinewidth\":0,\"ticks\":\"\"}}}],\"scatter3d\":[{\"type\":\"scatter3d\",\"line\":{\"colorbar\":{\"outlinewidth\":0,\"ticks\":\"\"}},\"marker\":{\"colorbar\":{\"outlinewidth\":0,\"ticks\":\"\"}}}],\"scattermapbox\":[{\"type\":\"scattermapbox\",\"marker\":{\"colorbar\":{\"outlinewidth\":0,\"ticks\":\"\"}}}],\"scatterternary\":[{\"type\":\"scatterternary\",\"marker\":{\"colorbar\":{\"outlinewidth\":0,\"ticks\":\"\"}}}],\"scattercarpet\":[{\"type\":\"scattercarpet\",\"marker\":{\"colorbar\":{\"outlinewidth\":0,\"ticks\":\"\"}}}],\"carpet\":[{\"aaxis\":{\"endlinecolor\":\"#2a3f5f\",\"gridcolor\":\"white\",\"linecolor\":\"white\",\"minorgridcolor\":\"white\",\"startlinecolor\":\"#2a3f5f\"},\"baxis\":{\"endlinecolor\":\"#2a3f5f\",\"gridcolor\":\"white\",\"linecolor\":\"white\",\"minorgridcolor\":\"white\",\"startlinecolor\":\"#2a3f5f\"},\"type\":\"carpet\"}],\"table\":[{\"cells\":{\"fill\":{\"color\":\"#EBF0F8\"},\"line\":{\"color\":\"white\"}},\"header\":{\"fill\":{\"color\":\"#C8D4E3\"},\"line\":{\"color\":\"white\"}},\"type\":\"table\"}],\"barpolar\":[{\"marker\":{\"line\":{\"color\":\"#E5ECF6\",\"width\":0.5},\"pattern\":{\"fillmode\":\"overlay\",\"size\":10,\"solidity\":0.2}},\"type\":\"barpolar\"}],\"pie\":[{\"automargin\":true,\"type\":\"pie\"}]},\"layout\":{\"autotypenumbers\":\"strict\",\"colorway\":[\"#636efa\",\"#EF553B\",\"#00cc96\",\"#ab63fa\",\"#FFA15A\",\"#19d3f3\",\"#FF6692\",\"#B6E880\",\"#FF97FF\",\"#FECB52\"],\"font\":{\"color\":\"#2a3f5f\"},\"hovermode\":\"closest\",\"hoverlabel\":{\"align\":\"left\"},\"paper_bgcolor\":\"white\",\"plot_bgcolor\":\"#E5ECF6\",\"polar\":{\"bgcolor\":\"#E5ECF6\",\"angularaxis\":{\"gridcolor\":\"white\",\"linecolor\":\"white\",\"ticks\":\"\"},\"radialaxis\":{\"gridcolor\":\"white\",\"linecolor\":\"white\",\"ticks\":\"\"}},\"ternary\":{\"bgcolor\":\"#E5ECF6\",\"aaxis\":{\"gridcolor\":\"white\",\"linecolor\":\"white\",\"ticks\":\"\"},\"baxis\":{\"gridcolor\":\"white\",\"linecolor\":\"white\",\"ticks\":\"\"},\"caxis\":{\"gridcolor\":\"white\",\"linecolor\":\"white\",\"ticks\":\"\"}},\"coloraxis\":{\"colorbar\":{\"outlinewidth\":0,\"ticks\":\"\"}},\"colorscale\":{\"sequential\":[[0.0,\"#0d0887\"],[0.1111111111111111,\"#46039f\"],[0.2222222222222222,\"#7201a8\"],[0.3333333333333333,\"#9c179e\"],[0.4444444444444444,\"#bd3786\"],[0.5555555555555556,\"#d8576b\"],[0.6666666666666666,\"#ed7953\"],[0.7777777777777778,\"#fb9f3a\"],[0.8888888888888888,\"#fdca26\"],[1.0,\"#f0f921\"]],\"sequentialminus\":[[0.0,\"#0d0887\"],[0.1111111111111111,\"#46039f\"],[0.2222222222222222,\"#7201a8\"],[0.3333333333333333,\"#9c179e\"],[0.4444444444444444,\"#bd3786\"],[0.5555555555555556,\"#d8576b\"],[0.6666666666666666,\"#ed7953\"],[0.7777777777777778,\"#fb9f3a\"],[0.8888888888888888,\"#fdca26\"],[1.0,\"#f0f921\"]],\"diverging\":[[0,\"#8e0152\"],[0.1,\"#c51b7d\"],[0.2,\"#de77ae\"],[0.3,\"#f1b6da\"],[0.4,\"#fde0ef\"],[0.5,\"#f7f7f7\"],[0.6,\"#e6f5d0\"],[0.7,\"#b8e186\"],[0.8,\"#7fbc41\"],[0.9,\"#4d9221\"],[1,\"#276419\"]]},\"xaxis\":{\"gridcolor\":\"white\",\"linecolor\":\"white\",\"ticks\":\"\",\"title\":{\"standoff\":15},\"zerolinecolor\":\"white\",\"automargin\":true,\"zerolinewidth\":2},\"yaxis\":{\"gridcolor\":\"white\",\"linecolor\":\"white\",\"ticks\":\"\",\"title\":{\"standoff\":15},\"zerolinecolor\":\"white\",\"automargin\":true,\"zerolinewidth\":2},\"scene\":{\"xaxis\":{\"backgroundcolor\":\"#E5ECF6\",\"gridcolor\":\"white\",\"linecolor\":\"white\",\"showbackground\":true,\"ticks\":\"\",\"zerolinecolor\":\"white\",\"gridwidth\":2},\"yaxis\":{\"backgroundcolor\":\"#E5ECF6\",\"gridcolor\":\"white\",\"linecolor\":\"white\",\"showbackground\":true,\"ticks\":\"\",\"zerolinecolor\":\"white\",\"gridwidth\":2},\"zaxis\":{\"backgroundcolor\":\"#E5ECF6\",\"gridcolor\":\"white\",\"linecolor\":\"white\",\"showbackground\":true,\"ticks\":\"\",\"zerolinecolor\":\"white\",\"gridwidth\":2}},\"shapedefaults\":{\"line\":{\"color\":\"#2a3f5f\"}},\"annotationdefaults\":{\"arrowcolor\":\"#2a3f5f\",\"arrowhead\":0,\"arrowwidth\":1},\"geo\":{\"bgcolor\":\"white\",\"landcolor\":\"#E5ECF6\",\"subunitcolor\":\"white\",\"showland\":true,\"showlakes\":true,\"lakecolor\":\"white\"},\"title\":{\"x\":0.05},\"mapbox\":{\"style\":\"light\"}}},\"coloraxis\":{\"colorbar\":{\"title\":{\"text\":\"total_obs_value\"}},\"colorscale\":[[0.0,\"rgb(249, 221, 218)\"],[0.16666666666666666,\"rgb(242, 185, 196)\"],[0.3333333333333333,\"rgb(229, 151, 185)\"],[0.5,\"rgb(206, 120, 179)\"],[0.6666666666666666,\"rgb(173, 95, 173)\"],[0.8333333333333334,\"rgb(131, 75, 160)\"],[1.0,\"rgb(87, 59, 136)\"]]},\"legend\":{\"tracegroupgap\":0},\"margin\":{\"t\":60},\"title\":{\"text\":\"Continent wise distribution of out of school rate\"}},                        {\"responsive\": true}                    ).then(function(){\n",
       "                            \n",
       "var gd = document.getElementById('accb81d5-20b5-44c6-ba2b-a621c48f2fb7');\n",
       "var x = new MutationObserver(function (mutations, observer) {{\n",
       "        var display = window.getComputedStyle(gd).display;\n",
       "        if (!display || display === 'none') {{\n",
       "            console.log([gd, 'removed!']);\n",
       "            Plotly.purge(gd);\n",
       "            observer.disconnect();\n",
       "        }}\n",
       "}});\n",
       "\n",
       "// Listen for the removal of the full notebook cells\n",
       "var notebookContainer = gd.closest('#notebook-container');\n",
       "if (notebookContainer) {{\n",
       "    x.observe(notebookContainer, {childList: true});\n",
       "}}\n",
       "\n",
       "// Listen for the clearing of the current output cell\n",
       "var outputEl = gd.closest('.output');\n",
       "if (outputEl) {{\n",
       "    x.observe(outputEl, {childList: true});\n",
       "}}\n",
       "\n",
       "                        })                };                });            </script>        </div>"
      ]
     },
     "metadata": {},
     "output_type": "display_data"
    }
   ],
   "source": [
    "fig1 = px.treemap(gdp_obs_value, path=['continent'], values='total_gdp',  \n",
    "                  color='total_gdp', color_continuous_scale='purpor')\n",
    "fig1.update_layout(title = 'Continent wise distribution of GDP per Capita')\n",
    "\n",
    "fig2 = px.treemap(gdp_obs_value, path=['continent'], values='total_obs_value',  \n",
    "                  color='total_obs_value', color_continuous_scale='purpor')\n",
    "fig2.update_layout(title = 'Continent wise distribution of out of school rate')\n",
    "fig1.show()\n",
    "fig2.show()"
   ]
  },
  {
   "cell_type": "markdown",
   "id": "3d83731c",
   "metadata": {},
   "source": [
    "### <span style=\"font-family: Century; color: #703855;\">Through our Continent-driven Out-of-School Adolescents chart, unveiling disparities in education that access worldwide. Identifying the clear correlation: continents with higher GDPs exhibit lower percentages of out-of-school adolescents, where as those with lower GDPs face higher rates. This simplified report highlights regions with elevated proportions of out-of-school adolescents, directly impacting GDP per capita.</span>"
   ]
  },
  {
   "cell_type": "markdown",
   "id": "6eaabd54",
   "metadata": {},
   "source": [
    "##  <span style=\"font-family: Elephant; color: #000056;\">BAR CHART</span>"
   ]
  },
  {
   "cell_type": "code",
   "execution_count": 47,
   "id": "80226b2a",
   "metadata": {},
   "outputs": [
    {
     "data": {
      "text/plain": [
       "Text(0, 0.5, 'Out-of-school Rate')"
      ]
     },
     "execution_count": 47,
     "metadata": {},
     "output_type": "execute_result"
    },
    {
     "data": {
      "image/png": "[encoded data removed]",
      "text/plain": [
       "<Figure size 1200x600 with 1 Axes>"
      ]
     },
     "metadata": {},
     "output_type": "display_data"
    }
   ],
   "source": [
    "male_data = merged_df[merged_df['sex'] == 'Male'].groupby(['continent'])['obs_value'].mean().reset_index()\n",
    "female_data = merged_df[merged_df['sex'] == 'Female'].groupby(['continent'])['obs_value'].mean().reset_index()\n",
    "\n",
    "result = pd.concat([male_data, female_data], axis=1)\n",
    "result.columns = ['continent', 'male_obs_value', 'continent','female_obs_value']\n",
    "\n",
    "result = result.loc[:, ~result.columns.duplicated()]\n",
    "result.plot(x='continent', kind='bar',stacked=True, figsize=(12, 6), colormap = 'jet', width = 0.6)\n",
    "for i, (val1, val2) in enumerate(zip(list(result['female_obs_value']), list(result['male_obs_value']))):\n",
    "    plt.text(i, val1/2 + 1, str(float(f'{val1:.2f}')), ha='center',va = 'center', color='white')\n",
    "    plt.text(i, val1 + val2/2 + 1, str(float(f'{val2:.2f}')), ha='center',va = 'center', color='white')\n",
    "\n",
    "plt.xlabel('Continent')\n",
    "plt.ylabel('Out-of-school Rate')"
   ]
  },
  {
   "cell_type": "markdown",
   "id": "9d1affba",
   "metadata": {},
   "source": [
    "### <span style=\"font-family: Century; color: #703855;\">The bargraph displays important statistics and patterns about the percentage of male and female teenagers in each continent that do not attend school. The graph attempts to give a brief, simply readable summary of the differences in teenage girls' and boys' access to schooling</span>"
   ]
  },
  {
   "cell_type": "markdown",
   "id": "d2e0a4ef",
   "metadata": {},
   "source": [
    "##  <span style=\"font-family: Elephant; color: #000056;\">SCATTER PLOT</span>"
   ]
  },
  {
   "cell_type": "code",
   "execution_count": 24,
   "id": "263dc4d3",
   "metadata": {
    "scrolled": true
   },
   "outputs": [],
   "source": [
    "new_df = pd.DataFrame()\n",
    "new_df['year'] = list(data.year.unique())\n",
    "female = []\n",
    "male = []\n",
    "for i in new_df['year']:\n",
    "    female_sum = data.loc[(data['sex'] == 'Female') & (data['year'] == i), 'obs_value'].mean()\n",
    "    male_sum = data.loc[(data['sex'] == 'Male') & (data['year'] == i), 'obs_value'].mean()\n",
    "    \n",
    "    female.append(female_sum)\n",
    "    male.append(male_sum)\n",
    "\n",
    "new_df['female_obs_value'] = female\n",
    "new_df['male_obs_value'] = male\n",
    "df_sorted = new_df.sort_values(by='year')\n",
    "df_sorted.set_index('year', inplace=True)\n",
    "result_df = data.groupby('sex')['obs_value'].apply(np.array).reset_index(name='obs_vales')\n",
    "result_df.set_index('sex',inplace=True)\n",
    "f = result_df['obs_vales']['Female']\n",
    "m = result_df['obs_vales']['Male']\n",
    "# Calculate regression line coefficients\n",
    "a, b = np.polyfit(f, m, 1)\n",
    "c = ['purple', 'lightpink'] * 72 + ['lightpink'] \n",
    "# Create scatterplot\n",
    "plt.scatter(f, m,c=c)\n",
    "\n",
    "# Add regression line to scatterplot\n",
    "plt.plot(f, a*f+b,c='red')\n",
    "\n",
    "plt.show()"
   ]
  },
  {
   "cell_type": "markdown",
   "id": "1aedd45b",
   "metadata": {},
   "source": [
    "### <span style=\"font-family: Century; color: #703855;\">The above scatterplot represents the relationship between the observed values of two variables, 'Female' and 'Male'. Each point on the scatterplot represents a pair of observed values for 'Female' and 'Male'.The scatterplot also includes a regression line (in red) fitted to the data points using linear regression. The regression line provides a visual representation of the linear relationship between the 'Female' and 'Male' observed values. Additionally, the color of each data point alternates between 'purple' and 'lightpink', creating a visually appealing pattern on the scatterplot.Overall, the scatterplot and regression line help to visualize the relationship between the observed values of 'Female' and 'Male' variables, and the color pattern adds an additional layer of visual interest to the plot.</span>"
   ]
  },
  {
   "cell_type": "markdown",
   "id": "2411ca6f",
   "metadata": {},
   "source": [
    "##  <span style=\"font-family: Elephant; color: #000056;\">TIME SERIES CHART</span>"
   ]
  },
  {
   "cell_type": "code",
   "execution_count": 51,
   "id": "070dbfa1",
   "metadata": {},
   "outputs": [
    {
     "data": {
      "image/png": "[encoded data removed]",
      "text/plain": [
       "<Figure size 1200x600 with 1 Axes>"
      ]
     },
     "metadata": {},
     "output_type": "display_data"
    }
   ],
   "source": [
    "# Create a time series chart\n",
    "plt.figure(figsize=(12, 6))\n",
    "plt.plot(df_sorted.index, df_sorted['female_obs_value'], color='purple', marker='o', linestyle='-')\n",
    "plt.plot(df_sorted.index, df_sorted['male_obs_value'], color='lightpink', marker='o', linestyle='-')\n",
    "\n",
    "# Add labels and title\n",
    "plt.xlabel('Date')\n",
    "plt.ylabel('Out-of-school rate')\n",
    "plt.title('Time Series Chart')\n",
    "\n",
    "\n",
    "# Display the plot\n",
    "plt.grid(True)\n",
    "plt.show()"
   ]
  },
  {
   "cell_type": "markdown",
   "id": "bdd3fe8b",
   "metadata": {},
   "source": [
    "### <span style=\"font-family: Century; color: #703855;\">The time series chart compares fluctuations of the out-of-school rates  over the years from 2014 to 2022 for males and females. The time series chart consists of two lines: one representing the out-of-school rates for females in purple and the other for males in light pink. Each point on the lines corresponds to the out-of-school rate for a specific year.The x-axis represents the years, while the y-axis represents the out-of-school rates. The chart visualizes how the out-of-school rates for males and females have changed over time, allowing for easy comparison between the two. The chart shows a sharp decline from 2014 to 2015, followed by a gradual increase until 2017. After a brief dip in 2018, the values rose steadily until 2020. The chart then displays a significant spike in 2021, reaching the highest point on the graph. Overall, the time series chart effectively presents the trends in male and female out-of-school rates over the years, allowing for easy interpretation and comparison of the data.\n",
    "</span>"
   ]
  },
  {
   "cell_type": "markdown",
   "id": "041f0ab4",
   "metadata": {},
   "source": [
    "##  <span style=\"font-family: Elephant; color: #000056;\">CONCLUSION</span>"
   ]
  },
  {
   "cell_type": "markdown",
   "id": "71349c69",
   "metadata": {},
   "source": [
    "### <span style=\"font-family: Century; color: #703855;\">The analysis presented reveals a compelling inverse relationship between a country's economic status, measured by its gross domestic product (GDP) per capita, and the percentage of adolescents who are out of school and not receiving formal education. This trend is observed both at the national level within individual countries and when examining data across entire continents.Countries with higher GDP per capita tend to have lower rates of out-of-school adolescents, suggesting that greater economic resources and development are associated with better access to educational opportunities for young people. Conversely, nations with lower GDP per capita face the challenge of higher percentages of adolescents who are not enrolled in formal schooling systems.Notably, in countries with lower GDP levels, there is a positive correlation between the out-of-school rates for male and female adolescents. This finding implies that economic constraints and limitations in these nations impact access to education for both genders, rather than disproportionately affecting one gender over the other.Furthermore, the report highlights the specific countries with the highest percentages of out-of-school adolescents, shedding light on the regions and areas that require urgent interventions and targeted efforts to address these educational disparities. By identifying these hotspots, policymakers and stakeholders can prioritize resources and implement strategies to improve educational access and opportunities for adolescents in these underserved regions.Overall, the analysis underscores the significant impact of economic factors on educational attainment and highlights the need for concerted efforts to address this global issue, particularly in lower-income nations, to ensure equitable access to education for all adolescents, regardless of gender or economic circumstances.\n",
    "</span>"
   ]
  }
 ],
 "metadata": {
  "kernelspec": {
   "display_name": "Python 3 (ipykernel)",
   "language": "python",
   "name": "python3"
  },
  "language_info": {
   "codemirror_mode": {
    "name": "ipython",
    "version": 3
   },
   "file_extension": ".py",
   "mimetype": "text/x-python",
   "name": "python",
   "nbconvert_exporter": "python",
   "pygments_lexer": "ipython3",
   "version": "3.11.5"
  }
 },
 "nbformat": 4,
 "nbformat_minor": 5
}
